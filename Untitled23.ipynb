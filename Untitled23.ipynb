{
  "nbformat": 4,
  "nbformat_minor": 0,
  "metadata": {
    "colab": {
      "provenance": []
    },
    "kernelspec": {
      "name": "python3",
      "display_name": "Python 3"
    },
    "language_info": {
      "name": "python"
    }
  },
  "cells": [
    {
      "cell_type": "code",
      "execution_count": null,
      "metadata": {
        "id": "9qfLgBJEALRY"
      },
      "outputs": [],
      "source": [
        "import nltk\n",
        "import re\n",
        "from nltk.chat.util import Chat,reflections"
      ]
    },
    {
      "cell_type": "code",
      "source": [
        "nltk.download('punkt')\n",
        "nltk.download('averaged_perceptron_tagger')"
      ],
      "metadata": {
        "colab": {
          "base_uri": "https://localhost:8080/"
        },
        "id": "vdvhTTuKAL4C",
        "outputId": "00b9d68e-e131-4932-8fb7-f6e7d36098e0"
      },
      "execution_count": null,
      "outputs": [
        {
          "output_type": "stream",
          "name": "stderr",
          "text": [
            "[nltk_data] Downloading package punkt to /root/nltk_data...\n",
            "[nltk_data]   Unzipping tokenizers/punkt.zip.\n",
            "[nltk_data] Downloading package averaged_perceptron_tagger to\n",
            "[nltk_data]     /root/nltk_data...\n",
            "[nltk_data]   Unzipping taggers/averaged_perceptron_tagger.zip.\n"
          ]
        },
        {
          "output_type": "execute_result",
          "data": {
            "text/plain": [
              "True"
            ]
          },
          "metadata": {},
          "execution_count": 2
        }
      ]
    },
    {
      "cell_type": "code",
      "source": [
        "\n",
        "\n",
        "\n",
        "pairs = [\n",
        "\n",
        "    [r\"my name is (.*)\", [\"Hello %1, how can I assist you today?\",]],\n",
        "\n",
        "    [r\"hi|hey|hello\", [\"Hello, how can I help you?\", \"Hey there! What can I do for you?\",\n",
        "\n",
        "                       \"Hi! How can I assist you today?\"]],\n",
        "\n",
        "    [r\"what is your name?\", [\"I am a chatbot created to assist you. You can call me Chatbot.\",]],\n",
        "\n",
        "    [r\"how are you?\", [\"I'm a bot, so I don't have feelings, but I'm here to help you!\",]],\n",
        "\n",
        "    [r\"can you help me with (.*)\", [\"Sure, I can help you with %1. Please provide more details.\",]],\n",
        "\n",
        "    [r\"sorry (.*)\", [\"It's okay. How can I assist you?\",]],\n",
        "\n",
        "    [r\"thank you|thanks\", [\"You're welcome!\", \"No problem!\", \"Happy to help!\"]],\n",
        "\n",
        "    [r\"quit\", [\"Bye! Have a great day!\", \"Goodbye!\"]]\n",
        "    ,\n",
        "    [r\"temple\", [\"Bhadrachalam\"]],\n",
        "\n",
        "    [r\"(.*)\", [\"I'm sorry, I don't understand that. Can you rephrase?\",\n",
        "\n",
        "               \"Could you please elaborate on that?\"]]\n",
        "\n",
        "]"
      ],
      "metadata": {
        "id": "2kezg-VXATSH"
      },
      "execution_count": null,
      "outputs": []
    },
    {
      "cell_type": "code",
      "source": [
        "class RBChatbot:\n",
        "  def __init__(self,pairs):\n",
        "    self.chatbot = Chat(pairs,reflections)\n",
        "  def respond(self,user_input):\n",
        "    return self.chatbot.respond(user_input)\n",
        "chatbot=RBChatbot(pairs)\n"
      ],
      "metadata": {
        "id": "XV5r-W0JAVtF"
      },
      "execution_count": null,
      "outputs": []
    },
    {
      "cell_type": "code",
      "source": [
        "def chat_with_bot():\n",
        "  print(\"Hi,I'm your chatbot.Type 'quit' to exit.\")\n",
        "  while True:\n",
        "    user_input=input(\"You:\")\n",
        "    if user_input.lower()=='quit':\n",
        "      print(\"Chatbot:Goodbye!\")\n",
        "      break\n",
        "    response=chatbot.respond(user_input)\n",
        "    print(\"Chatbot:\",response)"
      ],
      "metadata": {
        "id": "VFZ8HZwXAYA3"
      },
      "execution_count": null,
      "outputs": []
    },
    {
      "cell_type": "code",
      "source": [
        "chat_with_bot()"
      ],
      "metadata": {
        "colab": {
          "base_uri": "https://localhost:8080/"
        },
        "id": "CI3gR9sxAZpT",
        "outputId": "59f442ca-d772-4fed-f3a5-60637997d1a4"
      },
      "execution_count": null,
      "outputs": [
        {
          "output_type": "stream",
          "name": "stdout",
          "text": [
            "Hi,I'm your chatbot.Type 'quit' to exit.\n",
            "You:hi\n",
            "Chatbot: Hi! How can I assist you today?\n",
            "You:temple\n",
            "Chatbot: Bhadrachalam\n",
            "You:thankyou\n",
            "Chatbot: I'm sorry, I don't understand that. Can you rephrase?\n",
            "You:quit\n",
            "Chatbot:Goodbye!\n"
          ]
        }
      ]
    },
    {
      "cell_type": "code",
      "source": [],
      "metadata": {
        "id": "GbPbM5EcAbqL"
      },
      "execution_count": null,
      "outputs": []
    }
  ]
}
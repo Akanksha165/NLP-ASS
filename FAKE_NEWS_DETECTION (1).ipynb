{
  "nbformat": 4,
  "nbformat_minor": 0,
  "metadata": {
    "colab": {
      "provenance": []
    },
    "kernelspec": {
      "name": "python3",
      "display_name": "Python 3"
    },
    "language_info": {
      "name": "python"
    }
  },
  "cells": [
    {
      "cell_type": "code",
      "execution_count": 1,
      "metadata": {
        "id": "CZAt95kpUBw7"
      },
      "outputs": [],
      "source": [
        "import pandas as pd\n",
        "import numpy as np\n",
        "import matplotlib.pyplot as plt\n",
        "import seaborn as sns"
      ]
    },
    {
      "cell_type": "code",
      "source": [
        "data=pd.read_csv(\"/content/fake_news.csv\")\n",
        "data.head()"
      ],
      "metadata": {
        "colab": {
          "base_uri": "https://localhost:8080/",
          "height": 380
        },
        "id": "53une9dJUWsj",
        "outputId": "92e95bcb-e868-4c43-d0c9-1d105d6da7aa"
      },
      "execution_count": 2,
      "outputs": [
        {
          "output_type": "execute_result",
          "data": {
            "text/plain": [
              "   id                                              title              author  \\\n",
              "0   0  House Dem Aide: We Didn’t Even See Comey’s Let...       Darrell Lucus   \n",
              "1   1  FLYNN: Hillary Clinton, Big Woman on Campus - ...     Daniel J. Flynn   \n",
              "2   2                  Why the Truth Might Get You Fired  Consortiumnews.com   \n",
              "3   3  15 Civilians Killed In Single US Airstrike Hav...     Jessica Purkiss   \n",
              "4   4  Iranian woman jailed for fictional unpublished...      Howard Portnoy   \n",
              "\n",
              "                                                text  label  \n",
              "0  House Dem Aide: We Didn’t Even See Comey’s Let...      1  \n",
              "1  Ever get the feeling your life circles the rou...      0  \n",
              "2  Why the Truth Might Get You Fired October 29, ...      1  \n",
              "3  Videos 15 Civilians Killed In Single US Airstr...      1  \n",
              "4  Print \\nAn Iranian woman has been sentenced to...      1  "
            ],
            "text/html": [
              "\n",
              "  <div id=\"df-d0dd549e-fd7f-4f45-92af-78a7e22e7f3e\" class=\"colab-df-container\">\n",
              "    <div>\n",
              "<style scoped>\n",
              "    .dataframe tbody tr th:only-of-type {\n",
              "        vertical-align: middle;\n",
              "    }\n",
              "\n",
              "    .dataframe tbody tr th {\n",
              "        vertical-align: top;\n",
              "    }\n",
              "\n",
              "    .dataframe thead th {\n",
              "        text-align: right;\n",
              "    }\n",
              "</style>\n",
              "<table border=\"1\" class=\"dataframe\">\n",
              "  <thead>\n",
              "    <tr style=\"text-align: right;\">\n",
              "      <th></th>\n",
              "      <th>id</th>\n",
              "      <th>title</th>\n",
              "      <th>author</th>\n",
              "      <th>text</th>\n",
              "      <th>label</th>\n",
              "    </tr>\n",
              "  </thead>\n",
              "  <tbody>\n",
              "    <tr>\n",
              "      <th>0</th>\n",
              "      <td>0</td>\n",
              "      <td>House Dem Aide: We Didn’t Even See Comey’s Let...</td>\n",
              "      <td>Darrell Lucus</td>\n",
              "      <td>House Dem Aide: We Didn’t Even See Comey’s Let...</td>\n",
              "      <td>1</td>\n",
              "    </tr>\n",
              "    <tr>\n",
              "      <th>1</th>\n",
              "      <td>1</td>\n",
              "      <td>FLYNN: Hillary Clinton, Big Woman on Campus - ...</td>\n",
              "      <td>Daniel J. Flynn</td>\n",
              "      <td>Ever get the feeling your life circles the rou...</td>\n",
              "      <td>0</td>\n",
              "    </tr>\n",
              "    <tr>\n",
              "      <th>2</th>\n",
              "      <td>2</td>\n",
              "      <td>Why the Truth Might Get You Fired</td>\n",
              "      <td>Consortiumnews.com</td>\n",
              "      <td>Why the Truth Might Get You Fired October 29, ...</td>\n",
              "      <td>1</td>\n",
              "    </tr>\n",
              "    <tr>\n",
              "      <th>3</th>\n",
              "      <td>3</td>\n",
              "      <td>15 Civilians Killed In Single US Airstrike Hav...</td>\n",
              "      <td>Jessica Purkiss</td>\n",
              "      <td>Videos 15 Civilians Killed In Single US Airstr...</td>\n",
              "      <td>1</td>\n",
              "    </tr>\n",
              "    <tr>\n",
              "      <th>4</th>\n",
              "      <td>4</td>\n",
              "      <td>Iranian woman jailed for fictional unpublished...</td>\n",
              "      <td>Howard Portnoy</td>\n",
              "      <td>Print \\nAn Iranian woman has been sentenced to...</td>\n",
              "      <td>1</td>\n",
              "    </tr>\n",
              "  </tbody>\n",
              "</table>\n",
              "</div>\n",
              "    <div class=\"colab-df-buttons\">\n",
              "\n",
              "  <div class=\"colab-df-container\">\n",
              "    <button class=\"colab-df-convert\" onclick=\"convertToInteractive('df-d0dd549e-fd7f-4f45-92af-78a7e22e7f3e')\"\n",
              "            title=\"Convert this dataframe to an interactive table.\"\n",
              "            style=\"display:none;\">\n",
              "\n",
              "  <svg xmlns=\"http://www.w3.org/2000/svg\" height=\"24px\" viewBox=\"0 -960 960 960\">\n",
              "    <path d=\"M120-120v-720h720v720H120Zm60-500h600v-160H180v160Zm220 220h160v-160H400v160Zm0 220h160v-160H400v160ZM180-400h160v-160H180v160Zm440 0h160v-160H620v160ZM180-180h160v-160H180v160Zm440 0h160v-160H620v160Z\"/>\n",
              "  </svg>\n",
              "    </button>\n",
              "\n",
              "  <style>\n",
              "    .colab-df-container {\n",
              "      display:flex;\n",
              "      gap: 12px;\n",
              "    }\n",
              "\n",
              "    .colab-df-convert {\n",
              "      background-color: #E8F0FE;\n",
              "      border: none;\n",
              "      border-radius: 50%;\n",
              "      cursor: pointer;\n",
              "      display: none;\n",
              "      fill: #1967D2;\n",
              "      height: 32px;\n",
              "      padding: 0 0 0 0;\n",
              "      width: 32px;\n",
              "    }\n",
              "\n",
              "    .colab-df-convert:hover {\n",
              "      background-color: #E2EBFA;\n",
              "      box-shadow: 0px 1px 2px rgba(60, 64, 67, 0.3), 0px 1px 3px 1px rgba(60, 64, 67, 0.15);\n",
              "      fill: #174EA6;\n",
              "    }\n",
              "\n",
              "    .colab-df-buttons div {\n",
              "      margin-bottom: 4px;\n",
              "    }\n",
              "\n",
              "    [theme=dark] .colab-df-convert {\n",
              "      background-color: #3B4455;\n",
              "      fill: #D2E3FC;\n",
              "    }\n",
              "\n",
              "    [theme=dark] .colab-df-convert:hover {\n",
              "      background-color: #434B5C;\n",
              "      box-shadow: 0px 1px 3px 1px rgba(0, 0, 0, 0.15);\n",
              "      filter: drop-shadow(0px 1px 2px rgba(0, 0, 0, 0.3));\n",
              "      fill: #FFFFFF;\n",
              "    }\n",
              "  </style>\n",
              "\n",
              "    <script>\n",
              "      const buttonEl =\n",
              "        document.querySelector('#df-d0dd549e-fd7f-4f45-92af-78a7e22e7f3e button.colab-df-convert');\n",
              "      buttonEl.style.display =\n",
              "        google.colab.kernel.accessAllowed ? 'block' : 'none';\n",
              "\n",
              "      async function convertToInteractive(key) {\n",
              "        const element = document.querySelector('#df-d0dd549e-fd7f-4f45-92af-78a7e22e7f3e');\n",
              "        const dataTable =\n",
              "          await google.colab.kernel.invokeFunction('convertToInteractive',\n",
              "                                                    [key], {});\n",
              "        if (!dataTable) return;\n",
              "\n",
              "        const docLinkHtml = 'Like what you see? Visit the ' +\n",
              "          '<a target=\"_blank\" href=https://colab.research.google.com/notebooks/data_table.ipynb>data table notebook</a>'\n",
              "          + ' to learn more about interactive tables.';\n",
              "        element.innerHTML = '';\n",
              "        dataTable['output_type'] = 'display_data';\n",
              "        await google.colab.output.renderOutput(dataTable, element);\n",
              "        const docLink = document.createElement('div');\n",
              "        docLink.innerHTML = docLinkHtml;\n",
              "        element.appendChild(docLink);\n",
              "      }\n",
              "    </script>\n",
              "  </div>\n",
              "\n",
              "\n",
              "<div id=\"df-d8d01387-98d5-482e-ab60-24e6e04c9676\">\n",
              "  <button class=\"colab-df-quickchart\" onclick=\"quickchart('df-d8d01387-98d5-482e-ab60-24e6e04c9676')\"\n",
              "            title=\"Suggest charts\"\n",
              "            style=\"display:none;\">\n",
              "\n",
              "<svg xmlns=\"http://www.w3.org/2000/svg\" height=\"24px\"viewBox=\"0 0 24 24\"\n",
              "     width=\"24px\">\n",
              "    <g>\n",
              "        <path d=\"M19 3H5c-1.1 0-2 .9-2 2v14c0 1.1.9 2 2 2h14c1.1 0 2-.9 2-2V5c0-1.1-.9-2-2-2zM9 17H7v-7h2v7zm4 0h-2V7h2v10zm4 0h-2v-4h2v4z\"/>\n",
              "    </g>\n",
              "</svg>\n",
              "  </button>\n",
              "\n",
              "<style>\n",
              "  .colab-df-quickchart {\n",
              "      --bg-color: #E8F0FE;\n",
              "      --fill-color: #1967D2;\n",
              "      --hover-bg-color: #E2EBFA;\n",
              "      --hover-fill-color: #174EA6;\n",
              "      --disabled-fill-color: #AAA;\n",
              "      --disabled-bg-color: #DDD;\n",
              "  }\n",
              "\n",
              "  [theme=dark] .colab-df-quickchart {\n",
              "      --bg-color: #3B4455;\n",
              "      --fill-color: #D2E3FC;\n",
              "      --hover-bg-color: #434B5C;\n",
              "      --hover-fill-color: #FFFFFF;\n",
              "      --disabled-bg-color: #3B4455;\n",
              "      --disabled-fill-color: #666;\n",
              "  }\n",
              "\n",
              "  .colab-df-quickchart {\n",
              "    background-color: var(--bg-color);\n",
              "    border: none;\n",
              "    border-radius: 50%;\n",
              "    cursor: pointer;\n",
              "    display: none;\n",
              "    fill: var(--fill-color);\n",
              "    height: 32px;\n",
              "    padding: 0;\n",
              "    width: 32px;\n",
              "  }\n",
              "\n",
              "  .colab-df-quickchart:hover {\n",
              "    background-color: var(--hover-bg-color);\n",
              "    box-shadow: 0 1px 2px rgba(60, 64, 67, 0.3), 0 1px 3px 1px rgba(60, 64, 67, 0.15);\n",
              "    fill: var(--button-hover-fill-color);\n",
              "  }\n",
              "\n",
              "  .colab-df-quickchart-complete:disabled,\n",
              "  .colab-df-quickchart-complete:disabled:hover {\n",
              "    background-color: var(--disabled-bg-color);\n",
              "    fill: var(--disabled-fill-color);\n",
              "    box-shadow: none;\n",
              "  }\n",
              "\n",
              "  .colab-df-spinner {\n",
              "    border: 2px solid var(--fill-color);\n",
              "    border-color: transparent;\n",
              "    border-bottom-color: var(--fill-color);\n",
              "    animation:\n",
              "      spin 1s steps(1) infinite;\n",
              "  }\n",
              "\n",
              "  @keyframes spin {\n",
              "    0% {\n",
              "      border-color: transparent;\n",
              "      border-bottom-color: var(--fill-color);\n",
              "      border-left-color: var(--fill-color);\n",
              "    }\n",
              "    20% {\n",
              "      border-color: transparent;\n",
              "      border-left-color: var(--fill-color);\n",
              "      border-top-color: var(--fill-color);\n",
              "    }\n",
              "    30% {\n",
              "      border-color: transparent;\n",
              "      border-left-color: var(--fill-color);\n",
              "      border-top-color: var(--fill-color);\n",
              "      border-right-color: var(--fill-color);\n",
              "    }\n",
              "    40% {\n",
              "      border-color: transparent;\n",
              "      border-right-color: var(--fill-color);\n",
              "      border-top-color: var(--fill-color);\n",
              "    }\n",
              "    60% {\n",
              "      border-color: transparent;\n",
              "      border-right-color: var(--fill-color);\n",
              "    }\n",
              "    80% {\n",
              "      border-color: transparent;\n",
              "      border-right-color: var(--fill-color);\n",
              "      border-bottom-color: var(--fill-color);\n",
              "    }\n",
              "    90% {\n",
              "      border-color: transparent;\n",
              "      border-bottom-color: var(--fill-color);\n",
              "    }\n",
              "  }\n",
              "</style>\n",
              "\n",
              "  <script>\n",
              "    async function quickchart(key) {\n",
              "      const quickchartButtonEl =\n",
              "        document.querySelector('#' + key + ' button');\n",
              "      quickchartButtonEl.disabled = true;  // To prevent multiple clicks.\n",
              "      quickchartButtonEl.classList.add('colab-df-spinner');\n",
              "      try {\n",
              "        const charts = await google.colab.kernel.invokeFunction(\n",
              "            'suggestCharts', [key], {});\n",
              "      } catch (error) {\n",
              "        console.error('Error during call to suggestCharts:', error);\n",
              "      }\n",
              "      quickchartButtonEl.classList.remove('colab-df-spinner');\n",
              "      quickchartButtonEl.classList.add('colab-df-quickchart-complete');\n",
              "    }\n",
              "    (() => {\n",
              "      let quickchartButtonEl =\n",
              "        document.querySelector('#df-d8d01387-98d5-482e-ab60-24e6e04c9676 button');\n",
              "      quickchartButtonEl.style.display =\n",
              "        google.colab.kernel.accessAllowed ? 'block' : 'none';\n",
              "    })();\n",
              "  </script>\n",
              "</div>\n",
              "\n",
              "    </div>\n",
              "  </div>\n"
            ],
            "application/vnd.google.colaboratory.intrinsic+json": {
              "type": "dataframe",
              "variable_name": "data",
              "summary": "{\n  \"name\": \"data\",\n  \"rows\": 20800,\n  \"fields\": [\n    {\n      \"column\": \"id\",\n      \"properties\": {\n        \"dtype\": \"number\",\n        \"std\": 6004,\n        \"min\": 0,\n        \"max\": 20799,\n        \"num_unique_values\": 20800,\n        \"samples\": [\n          14649,\n          9231,\n          6473\n        ],\n        \"semantic_type\": \"\",\n        \"description\": \"\"\n      }\n    },\n    {\n      \"column\": \"title\",\n      \"properties\": {\n        \"dtype\": \"string\",\n        \"num_unique_values\": 19803,\n        \"samples\": [\n          \"Florida Republicans Voting for Hillary Clinton \\u00b7 Guardian Liberty Voice\",\n          \"\\u2018Weekend Warriors\\u2019 Show Survival Benefits - The New York Times\",\n          \"Part 6, Democratic Network Money: Commons Money that Works for Us, Instead of Us Working for It\"\n        ],\n        \"semantic_type\": \"\",\n        \"description\": \"\"\n      }\n    },\n    {\n      \"column\": \"author\",\n      \"properties\": {\n        \"dtype\": \"category\",\n        \"num_unique_values\": 4201,\n        \"samples\": [\n          \"AARGH63\",\n          \"Dave Kehr\",\n          \"Patrick Healy\"\n        ],\n        \"semantic_type\": \"\",\n        \"description\": \"\"\n      }\n    },\n    {\n      \"column\": \"text\",\n      \"properties\": {\n        \"dtype\": \"string\",\n        \"num_unique_values\": 20386,\n        \"samples\": [\n          \"Multan a un ultrasur por lanzar a un jugador del Bar\\u00e7a al campo durante el partido Madrid-Legia EL PARTIDO SE CONSIDERABA DE ALTO RIESGO PARA LOS JUGADORES DEL BARCELONA Real Madrid \\nUn jugador barcelonista golpe\\u00f3 a varios jugadores durante el encuentro de la Champions que tuvo lugar ayer entre el Real Madrid y el Legia Varsovia despu\\u00e9s de ser arrojado desde la grada por un hincha madridista. \\nEl portero del Legia, muy molesto, intent\\u00f3 devolver el jugador a las gradas de una patada y se encar\\u00f3 con los Ultrasur, que ya preparaban a otro jugador para echarlo al campo y entorpecer el encuentro. En esta ocasi\\u00f3n pretend\\u00edan prenderlo con un mechero antes de lanzarlo al c\\u00e9sped. \\nLas autoridades han vuelto a pedir a los aficionados que dejen de lanzar cosas al campo como botellas, monedas y jugadores del Barcelona. El dispositivo de seguridad no puedo hacer nada por evitar que algunos hinchas introdujeran a jugadores barcelonistas a la grada, pues los llevaban camuflados dentro de bocadillos de gran tama\\u00f1o. \\nEl partido pudo ser reanudado cuando el \\u00e1rbitro apart\\u00f3 a un rinc\\u00f3n del c\\u00e9sped al jugador barcelonista.\",\n          \"Written by Jacob G. Hornberger   As US officials continue to accuse Russia of meddling with the US presidential election, an accusation that they have provided no evidence whatsoever to support, let\\u2019s review some of the US government\\u2019s history of meddling with elections in others countries.1. In 1951, the democratically elected parliament of Iran elected a man named Mohammad Mossadegh to be Iran\\u2019s prime minister. Mossadegh angered British Empire officials by nationalizing British oil interests in the country.British officials then turned to the CIA for assistance. In 1953, the CIA secretly fomented a violent coup in Iran, which succeeded in ousting Mossadegh from power and making the Shah of Iran the supreme unelected dictator of the country.To fortify the Shah\\u2019s dictatorial hold on power, the CIA helped organize and train the his domestic police force, the Savak, which was essentially a combination of the CIA, the NSA, and the military. Part of the CIA\\u2019s training involved teaching Savak agents the art of torture.For the next 26 years, the Iranian people suffered under one of the most brutal and tyrannical dictatorships in the world, one that US officials fully supported and called an ally and friend of the United States.In 1979, Iranians successfully revolted against the Shah\\u2019s regime and ousted him from power. One result was not a restoration of the democratic system that had elected Mossadegh but rather another brutal dictatorship, this time a religious one. Another result is the bad relations between the Iran and US governments that continues to exist today.2. In 1951, the Guatemalan people democratically elected a man named Jacobo Arbenz to be their president. Arbenz, however, was not satisfactory to US officials, especially the national-security branch of the government, specifically the Pentagon and the CIA. The reason that US officials opposed Arbenz was that he was a socialist, and US officials considered a socialist president of Guatemala to be a threat to \\u201cnational security\\u201d here in the United States.In 1954 \\u2014 one year after the coup in Iran, the CIA fomented a violent military coup that succeeded in removing Arbenz from power and replacing him with one of the most brutal unelected military dictators in Latin American history, a man named Carlos Castillo Armas. The CIA had a kill list prepared for the coup, which Arbenz was able to escape by fleeing the country before Castillo was able to get him. The CIA\\u2019s destruction of Guatemala\\u2019s democratic system threw the nation into a 30-year civil war that ended up killing millions of Guatemalan people, especially many of the poor.3. In 1960 a man named Patrice Lamumba was elected Congo\\u2019s first prime minister after independence from Belgium. Lamumba spoke out against Western imperialism and refused to take sides in the Cold War, which caused the CIA to conclude that he was a threat to \\u201cnational security.\\u201d The CIA orchestrated the assassination of Lamumba, which ended up taking place on January 17, 1961, just three days before President Kennedy, who liked Lamumba and who would have ordered the CIA to stand down, was to be sworn into office.4. In 1970 a man named Salvador Allende received a plurality of votes in the presidential election in Chile. Pursuant to the Chilean constitution, the election was thrown into the national congress. President Richard Nixon, his national-security team, the Pentagon, and the CIA concluded that because Allende believed in communism and socialism, he posed a grave threat to \\u201cnational security\\u201d here in the United States. The CIA attempted to bribe members of the congress to vote against Allende. It also orchestrated the kidnapping of the head of Chile\\u2019s armed forces, Gen Rene Schneider, who opposed a US military coup in his country, especially since a coup would violate the country\\u2019s constitution. The kidnapping attempt on Schneider left him dead.The CIA then fomented a coup that took place on 9/11 1973 that violently ousted Allende from power and left him dead. Replacing him was army Gen. Augusto Pinochet, one of the most brutal unelected military dictators in history. By the time Pinochet\\u2019s 17-year reign of military terror came to an end in 1990, he and his CIA-supported goons had incarcerated, raped, tortured, or killed tens of thousands of innocent people \\u2014 that is, people whose only \\u201ccrime\\u201d was believing in socialism \\u2014 with the full support of the CIA, Pentagon, Nixon, and his \\u201cnational security\\u201d team.Of course, there are also the more recent support of regime-change operations that ousted democratically elected presidents that the US government disapproved of, such as in Ukraine and Egypt.And then there is the long list of countries where unelected dictators were targeted for regime change by the US national security state and, where successful, replaced with a brutal unelected pro-US dictator. Cuba, Indonesia, Iraq, Libya, and Syria all come to mind.US officials need to keep in mind that when they point their accusatory index finger at Russia for supposedly meddling in the US presidential election, US officials have, at the same time, three fingers pointing back at themselves. Reprinted with permission from the Future of Freedom Foundation . Related\",\n          \"When hearing of an establishment called the Black and Blue Steakhouse, one could reasonably surmise that some, or at the very least one, extremely tough person could be found somewhere in there. Well, the three terrorists who attacked London Bridge over the weekend found the Black and Blue Steakhouse, and they found the toughest man in the house. [Or, maybe more to the point, he found them.  Roy Larner, 47, is a huge fan of the South East London soccer team Millwall F. C. The team is known as the Lions, and when   terrorists entered the Black and Blue to kill innocent people, Larner let them know who is the true king of the jungle. After the terrorists entered, with obvious bad intentions, Larner sprang into action: \\u201cLike an idiot I shouted back at them. I thought, \\u2018I need to take the p*** out of these b*****s.\\u2019 \\u201cI took a few steps towards them and said, \\u2018F*** you, I\\u2019m Millwall.\\u2019 So they started attacking me. \\u201cI stood in front of them trying to fight them off. Everyone else ran to the back. I was on my own against all three of them, that\\u2019s why I got hurt so much. It was just me, trying to grab them with my bare hands and hold on. I was swinging. \\u201cI got stabbed and sliced eight times. They got me in my head, chest and both hands. There was blood everywhere. \\u201cThey were saying, \\u2018Islam, Islam!\\u2019 I said again, \\u2018F*** you, I\\u2019m Millwall!\\u2019 \\u201cIt was the worst thing I could have done as they carried on attacking me. \\u201cLuckily, none of the blows were straight at me or I\\u2019d be dead. \\u201d A petition has begun, with the aim of awarding Larner with the George Cross for bravery. The award is the second highest commendation granted by Great Britain. Looking at his scars, it\\u2019s really hard to imagine that he won\\u2019t get it. If Millwall is looking for a new slogan, they may have found it. \\u201cF*** you, I\\u2019m Millwall!\\u201d has a nice ring to it. Follow Dylan Gwinn on Twitter: @themightygwinn\"\n        ],\n        \"semantic_type\": \"\",\n        \"description\": \"\"\n      }\n    },\n    {\n      \"column\": \"label\",\n      \"properties\": {\n        \"dtype\": \"number\",\n        \"std\": 0,\n        \"min\": 0,\n        \"max\": 1,\n        \"num_unique_values\": 2,\n        \"samples\": [\n          0,\n          1\n        ],\n        \"semantic_type\": \"\",\n        \"description\": \"\"\n      }\n    }\n  ]\n}"
            }
          },
          "metadata": {},
          "execution_count": 2
        }
      ]
    },
    {
      "cell_type": "code",
      "source": [
        "data.shape"
      ],
      "metadata": {
        "colab": {
          "base_uri": "https://localhost:8080/"
        },
        "id": "gMC02X-CVGQq",
        "outputId": "ec8ce65e-46f8-4b93-a31b-23e1747926d0"
      },
      "execution_count": 3,
      "outputs": [
        {
          "output_type": "execute_result",
          "data": {
            "text/plain": [
              "(20800, 5)"
            ]
          },
          "metadata": {},
          "execution_count": 3
        }
      ]
    },
    {
      "cell_type": "code",
      "source": [
        "data.info()"
      ],
      "metadata": {
        "colab": {
          "base_uri": "https://localhost:8080/"
        },
        "id": "23iCelUtV4va",
        "outputId": "45c0dfc3-03b0-43ce-d36d-0a7aafc53e88"
      },
      "execution_count": 4,
      "outputs": [
        {
          "output_type": "stream",
          "name": "stdout",
          "text": [
            "<class 'pandas.core.frame.DataFrame'>\n",
            "RangeIndex: 20800 entries, 0 to 20799\n",
            "Data columns (total 5 columns):\n",
            " #   Column  Non-Null Count  Dtype \n",
            "---  ------  --------------  ----- \n",
            " 0   id      20800 non-null  int64 \n",
            " 1   title   20242 non-null  object\n",
            " 2   author  18843 non-null  object\n",
            " 3   text    20761 non-null  object\n",
            " 4   label   20800 non-null  int64 \n",
            "dtypes: int64(2), object(3)\n",
            "memory usage: 812.6+ KB\n"
          ]
        }
      ]
    },
    {
      "cell_type": "code",
      "source": [
        "data.isna().sum()"
      ],
      "metadata": {
        "colab": {
          "base_uri": "https://localhost:8080/",
          "height": 241
        },
        "id": "lxw655PBWAI5",
        "outputId": "eb58712e-2720-448e-f850-aa24887b3ff7"
      },
      "execution_count": 5,
      "outputs": [
        {
          "output_type": "execute_result",
          "data": {
            "text/plain": [
              "id           0\n",
              "title      558\n",
              "author    1957\n",
              "text        39\n",
              "label        0\n",
              "dtype: int64"
            ],
            "text/html": [
              "<div>\n",
              "<style scoped>\n",
              "    .dataframe tbody tr th:only-of-type {\n",
              "        vertical-align: middle;\n",
              "    }\n",
              "\n",
              "    .dataframe tbody tr th {\n",
              "        vertical-align: top;\n",
              "    }\n",
              "\n",
              "    .dataframe thead th {\n",
              "        text-align: right;\n",
              "    }\n",
              "</style>\n",
              "<table border=\"1\" class=\"dataframe\">\n",
              "  <thead>\n",
              "    <tr style=\"text-align: right;\">\n",
              "      <th></th>\n",
              "      <th>0</th>\n",
              "    </tr>\n",
              "  </thead>\n",
              "  <tbody>\n",
              "    <tr>\n",
              "      <th>id</th>\n",
              "      <td>0</td>\n",
              "    </tr>\n",
              "    <tr>\n",
              "      <th>title</th>\n",
              "      <td>558</td>\n",
              "    </tr>\n",
              "    <tr>\n",
              "      <th>author</th>\n",
              "      <td>1957</td>\n",
              "    </tr>\n",
              "    <tr>\n",
              "      <th>text</th>\n",
              "      <td>39</td>\n",
              "    </tr>\n",
              "    <tr>\n",
              "      <th>label</th>\n",
              "      <td>0</td>\n",
              "    </tr>\n",
              "  </tbody>\n",
              "</table>\n",
              "</div><br><label><b>dtype:</b> int64</label>"
            ]
          },
          "metadata": {},
          "execution_count": 5
        }
      ]
    },
    {
      "cell_type": "code",
      "source": [
        "data=data.drop(['id'],axis=1)"
      ],
      "metadata": {
        "id": "miojAhG-XXh6"
      },
      "execution_count": 6,
      "outputs": []
    },
    {
      "cell_type": "code",
      "source": [
        "data=data.fillna('')"
      ],
      "metadata": {
        "id": "9k4kYGAnXgYF"
      },
      "execution_count": 8,
      "outputs": []
    },
    {
      "cell_type": "code",
      "source": [
        "data['content']=data['author']+' '+data['title']+' '+data['text']"
      ],
      "metadata": {
        "id": "d-RPrCw8Xkz4"
      },
      "execution_count": 9,
      "outputs": []
    },
    {
      "cell_type": "code",
      "source": [
        "data=data.drop(['title','author','text'],axis=1)"
      ],
      "metadata": {
        "id": "PEFYvkYbYMWG"
      },
      "execution_count": 10,
      "outputs": []
    },
    {
      "cell_type": "code",
      "source": [
        "data.head()"
      ],
      "metadata": {
        "colab": {
          "base_uri": "https://localhost:8080/",
          "height": 206
        },
        "id": "EJR73cTqYbMX",
        "outputId": "ce529d03-333b-4424-bbed-bbf7760ac56c"
      },
      "execution_count": 11,
      "outputs": [
        {
          "output_type": "execute_result",
          "data": {
            "text/plain": [
              "   label                                            content\n",
              "0      1  Darrell Lucus House Dem Aide: We Didn’t Even S...\n",
              "1      0  Daniel J. Flynn FLYNN: Hillary Clinton, Big Wo...\n",
              "2      1  Consortiumnews.com Why the Truth Might Get You...\n",
              "3      1  Jessica Purkiss 15 Civilians Killed In Single ...\n",
              "4      1  Howard Portnoy Iranian woman jailed for fictio..."
            ],
            "text/html": [
              "\n",
              "  <div id=\"df-2324aa6a-0cc4-456d-b105-7349560d41e7\" class=\"colab-df-container\">\n",
              "    <div>\n",
              "<style scoped>\n",
              "    .dataframe tbody tr th:only-of-type {\n",
              "        vertical-align: middle;\n",
              "    }\n",
              "\n",
              "    .dataframe tbody tr th {\n",
              "        vertical-align: top;\n",
              "    }\n",
              "\n",
              "    .dataframe thead th {\n",
              "        text-align: right;\n",
              "    }\n",
              "</style>\n",
              "<table border=\"1\" class=\"dataframe\">\n",
              "  <thead>\n",
              "    <tr style=\"text-align: right;\">\n",
              "      <th></th>\n",
              "      <th>label</th>\n",
              "      <th>content</th>\n",
              "    </tr>\n",
              "  </thead>\n",
              "  <tbody>\n",
              "    <tr>\n",
              "      <th>0</th>\n",
              "      <td>1</td>\n",
              "      <td>Darrell Lucus House Dem Aide: We Didn’t Even S...</td>\n",
              "    </tr>\n",
              "    <tr>\n",
              "      <th>1</th>\n",
              "      <td>0</td>\n",
              "      <td>Daniel J. Flynn FLYNN: Hillary Clinton, Big Wo...</td>\n",
              "    </tr>\n",
              "    <tr>\n",
              "      <th>2</th>\n",
              "      <td>1</td>\n",
              "      <td>Consortiumnews.com Why the Truth Might Get You...</td>\n",
              "    </tr>\n",
              "    <tr>\n",
              "      <th>3</th>\n",
              "      <td>1</td>\n",
              "      <td>Jessica Purkiss 15 Civilians Killed In Single ...</td>\n",
              "    </tr>\n",
              "    <tr>\n",
              "      <th>4</th>\n",
              "      <td>1</td>\n",
              "      <td>Howard Portnoy Iranian woman jailed for fictio...</td>\n",
              "    </tr>\n",
              "  </tbody>\n",
              "</table>\n",
              "</div>\n",
              "    <div class=\"colab-df-buttons\">\n",
              "\n",
              "  <div class=\"colab-df-container\">\n",
              "    <button class=\"colab-df-convert\" onclick=\"convertToInteractive('df-2324aa6a-0cc4-456d-b105-7349560d41e7')\"\n",
              "            title=\"Convert this dataframe to an interactive table.\"\n",
              "            style=\"display:none;\">\n",
              "\n",
              "  <svg xmlns=\"http://www.w3.org/2000/svg\" height=\"24px\" viewBox=\"0 -960 960 960\">\n",
              "    <path d=\"M120-120v-720h720v720H120Zm60-500h600v-160H180v160Zm220 220h160v-160H400v160Zm0 220h160v-160H400v160ZM180-400h160v-160H180v160Zm440 0h160v-160H620v160ZM180-180h160v-160H180v160Zm440 0h160v-160H620v160Z\"/>\n",
              "  </svg>\n",
              "    </button>\n",
              "\n",
              "  <style>\n",
              "    .colab-df-container {\n",
              "      display:flex;\n",
              "      gap: 12px;\n",
              "    }\n",
              "\n",
              "    .colab-df-convert {\n",
              "      background-color: #E8F0FE;\n",
              "      border: none;\n",
              "      border-radius: 50%;\n",
              "      cursor: pointer;\n",
              "      display: none;\n",
              "      fill: #1967D2;\n",
              "      height: 32px;\n",
              "      padding: 0 0 0 0;\n",
              "      width: 32px;\n",
              "    }\n",
              "\n",
              "    .colab-df-convert:hover {\n",
              "      background-color: #E2EBFA;\n",
              "      box-shadow: 0px 1px 2px rgba(60, 64, 67, 0.3), 0px 1px 3px 1px rgba(60, 64, 67, 0.15);\n",
              "      fill: #174EA6;\n",
              "    }\n",
              "\n",
              "    .colab-df-buttons div {\n",
              "      margin-bottom: 4px;\n",
              "    }\n",
              "\n",
              "    [theme=dark] .colab-df-convert {\n",
              "      background-color: #3B4455;\n",
              "      fill: #D2E3FC;\n",
              "    }\n",
              "\n",
              "    [theme=dark] .colab-df-convert:hover {\n",
              "      background-color: #434B5C;\n",
              "      box-shadow: 0px 1px 3px 1px rgba(0, 0, 0, 0.15);\n",
              "      filter: drop-shadow(0px 1px 2px rgba(0, 0, 0, 0.3));\n",
              "      fill: #FFFFFF;\n",
              "    }\n",
              "  </style>\n",
              "\n",
              "    <script>\n",
              "      const buttonEl =\n",
              "        document.querySelector('#df-2324aa6a-0cc4-456d-b105-7349560d41e7 button.colab-df-convert');\n",
              "      buttonEl.style.display =\n",
              "        google.colab.kernel.accessAllowed ? 'block' : 'none';\n",
              "\n",
              "      async function convertToInteractive(key) {\n",
              "        const element = document.querySelector('#df-2324aa6a-0cc4-456d-b105-7349560d41e7');\n",
              "        const dataTable =\n",
              "          await google.colab.kernel.invokeFunction('convertToInteractive',\n",
              "                                                    [key], {});\n",
              "        if (!dataTable) return;\n",
              "\n",
              "        const docLinkHtml = 'Like what you see? Visit the ' +\n",
              "          '<a target=\"_blank\" href=https://colab.research.google.com/notebooks/data_table.ipynb>data table notebook</a>'\n",
              "          + ' to learn more about interactive tables.';\n",
              "        element.innerHTML = '';\n",
              "        dataTable['output_type'] = 'display_data';\n",
              "        await google.colab.output.renderOutput(dataTable, element);\n",
              "        const docLink = document.createElement('div');\n",
              "        docLink.innerHTML = docLinkHtml;\n",
              "        element.appendChild(docLink);\n",
              "      }\n",
              "    </script>\n",
              "  </div>\n",
              "\n",
              "\n",
              "<div id=\"df-53eb88c7-98f9-4a8f-8764-66ad0d26b6e7\">\n",
              "  <button class=\"colab-df-quickchart\" onclick=\"quickchart('df-53eb88c7-98f9-4a8f-8764-66ad0d26b6e7')\"\n",
              "            title=\"Suggest charts\"\n",
              "            style=\"display:none;\">\n",
              "\n",
              "<svg xmlns=\"http://www.w3.org/2000/svg\" height=\"24px\"viewBox=\"0 0 24 24\"\n",
              "     width=\"24px\">\n",
              "    <g>\n",
              "        <path d=\"M19 3H5c-1.1 0-2 .9-2 2v14c0 1.1.9 2 2 2h14c1.1 0 2-.9 2-2V5c0-1.1-.9-2-2-2zM9 17H7v-7h2v7zm4 0h-2V7h2v10zm4 0h-2v-4h2v4z\"/>\n",
              "    </g>\n",
              "</svg>\n",
              "  </button>\n",
              "\n",
              "<style>\n",
              "  .colab-df-quickchart {\n",
              "      --bg-color: #E8F0FE;\n",
              "      --fill-color: #1967D2;\n",
              "      --hover-bg-color: #E2EBFA;\n",
              "      --hover-fill-color: #174EA6;\n",
              "      --disabled-fill-color: #AAA;\n",
              "      --disabled-bg-color: #DDD;\n",
              "  }\n",
              "\n",
              "  [theme=dark] .colab-df-quickchart {\n",
              "      --bg-color: #3B4455;\n",
              "      --fill-color: #D2E3FC;\n",
              "      --hover-bg-color: #434B5C;\n",
              "      --hover-fill-color: #FFFFFF;\n",
              "      --disabled-bg-color: #3B4455;\n",
              "      --disabled-fill-color: #666;\n",
              "  }\n",
              "\n",
              "  .colab-df-quickchart {\n",
              "    background-color: var(--bg-color);\n",
              "    border: none;\n",
              "    border-radius: 50%;\n",
              "    cursor: pointer;\n",
              "    display: none;\n",
              "    fill: var(--fill-color);\n",
              "    height: 32px;\n",
              "    padding: 0;\n",
              "    width: 32px;\n",
              "  }\n",
              "\n",
              "  .colab-df-quickchart:hover {\n",
              "    background-color: var(--hover-bg-color);\n",
              "    box-shadow: 0 1px 2px rgba(60, 64, 67, 0.3), 0 1px 3px 1px rgba(60, 64, 67, 0.15);\n",
              "    fill: var(--button-hover-fill-color);\n",
              "  }\n",
              "\n",
              "  .colab-df-quickchart-complete:disabled,\n",
              "  .colab-df-quickchart-complete:disabled:hover {\n",
              "    background-color: var(--disabled-bg-color);\n",
              "    fill: var(--disabled-fill-color);\n",
              "    box-shadow: none;\n",
              "  }\n",
              "\n",
              "  .colab-df-spinner {\n",
              "    border: 2px solid var(--fill-color);\n",
              "    border-color: transparent;\n",
              "    border-bottom-color: var(--fill-color);\n",
              "    animation:\n",
              "      spin 1s steps(1) infinite;\n",
              "  }\n",
              "\n",
              "  @keyframes spin {\n",
              "    0% {\n",
              "      border-color: transparent;\n",
              "      border-bottom-color: var(--fill-color);\n",
              "      border-left-color: var(--fill-color);\n",
              "    }\n",
              "    20% {\n",
              "      border-color: transparent;\n",
              "      border-left-color: var(--fill-color);\n",
              "      border-top-color: var(--fill-color);\n",
              "    }\n",
              "    30% {\n",
              "      border-color: transparent;\n",
              "      border-left-color: var(--fill-color);\n",
              "      border-top-color: var(--fill-color);\n",
              "      border-right-color: var(--fill-color);\n",
              "    }\n",
              "    40% {\n",
              "      border-color: transparent;\n",
              "      border-right-color: var(--fill-color);\n",
              "      border-top-color: var(--fill-color);\n",
              "    }\n",
              "    60% {\n",
              "      border-color: transparent;\n",
              "      border-right-color: var(--fill-color);\n",
              "    }\n",
              "    80% {\n",
              "      border-color: transparent;\n",
              "      border-right-color: var(--fill-color);\n",
              "      border-bottom-color: var(--fill-color);\n",
              "    }\n",
              "    90% {\n",
              "      border-color: transparent;\n",
              "      border-bottom-color: var(--fill-color);\n",
              "    }\n",
              "  }\n",
              "</style>\n",
              "\n",
              "  <script>\n",
              "    async function quickchart(key) {\n",
              "      const quickchartButtonEl =\n",
              "        document.querySelector('#' + key + ' button');\n",
              "      quickchartButtonEl.disabled = true;  // To prevent multiple clicks.\n",
              "      quickchartButtonEl.classList.add('colab-df-spinner');\n",
              "      try {\n",
              "        const charts = await google.colab.kernel.invokeFunction(\n",
              "            'suggestCharts', [key], {});\n",
              "      } catch (error) {\n",
              "        console.error('Error during call to suggestCharts:', error);\n",
              "      }\n",
              "      quickchartButtonEl.classList.remove('colab-df-spinner');\n",
              "      quickchartButtonEl.classList.add('colab-df-quickchart-complete');\n",
              "    }\n",
              "    (() => {\n",
              "      let quickchartButtonEl =\n",
              "        document.querySelector('#df-53eb88c7-98f9-4a8f-8764-66ad0d26b6e7 button');\n",
              "      quickchartButtonEl.style.display =\n",
              "        google.colab.kernel.accessAllowed ? 'block' : 'none';\n",
              "    })();\n",
              "  </script>\n",
              "</div>\n",
              "\n",
              "    </div>\n",
              "  </div>\n"
            ],
            "application/vnd.google.colaboratory.intrinsic+json": {
              "type": "dataframe",
              "variable_name": "data",
              "summary": "{\n  \"name\": \"data\",\n  \"rows\": 20800,\n  \"fields\": [\n    {\n      \"column\": \"label\",\n      \"properties\": {\n        \"dtype\": \"number\",\n        \"std\": 0,\n        \"min\": 0,\n        \"max\": 1,\n        \"num_unique_values\": 2,\n        \"samples\": [\n          0,\n          1\n        ],\n        \"semantic_type\": \"\",\n        \"description\": \"\"\n      }\n    },\n    {\n      \"column\": \"content\",\n      \"properties\": {\n        \"dtype\": \"string\",\n        \"num_unique_values\": 20691,\n        \"samples\": [\n          \"Alan Blinder Mistrial for South Carolina Officer Who Shot Walter Scott - The New York Times CHARLESTON, S. C.  \\u2014   The trial of Michael T. Slager, the police officer whose videotaped killing of an unarmed black man staggered a nation already embroiled in a debate about police misconduct and racial bias in law enforcement, ended in a mistrial on Monday. Judge Clifton B. Newman\\u2019s decision to halt the proceedings came three days after jurors signaled that they were within one vote of returning a guilty verdict against Mr. Slager, who could have been convicted of murder or voluntary manslaughter in the fatal shooting of Walter L. Scott. But on Monday, in a final note to Judge Newman, jurors said that \\u201cdespite the best efforts of all members, we are unable to come to a unanimous decision. \\u201d The outcome was disappointingly familiar to critics of police practices and conduct, and demonstrated the steep hurdles associated with prosecuting a police officer for a shooting while on duty. Although other cases involving claims of police misconduct have ended in mistrials and acquittals, few resonated as widely as this case in North Charleston, where Mr. Slager fired eight shots as Mr. Scott ran away. \\u201cThe fight isn\\u2019t over, that was Round 1,\\u201d said L. Chris Stewart, a lawyer for Mr. Scott\\u2019s family. \\u201cWe all saw what he did. We all saw what happened. \\u201d In a statement, Gov. Nikki R. Haley said: \\u201cJustice is not always immediate, but we must all have faith that it will be served  \\u2014   I certainly do. \\u201d Prosecutors said they would seek a new trial for Mr. Slager, who was fired after the shooting, and the Scott family expressed confidence that he would ultimately be convicted. Mr. Slager\\u2019s lawyer, Andrew J. Savage III, did not comment as he left the courtroom, where jurors had heard testimony for about four weeks. No piece of evidence was more central than a cellphone video, which a   Feidin Santana, recorded as he walked to work on April 4, 2015. The video began only after Mr. Scott fled on foot from a traffic stop for a broken taillight, but it was shocking and vivid. In the recording, the men engage in a struggle, and then, as Mr. Scott runs away, Mr. Slager raises his Glock handgun and fires. Mr. Scott falls to the ground. He was at least 17 feet away when Mr. Slager began to shoot. It was a sequence that jurors saw over and over, and the sound of the gunshots repeatedly pierced the courtroom. On Monday, the existence of the video, and its inability to lead to a conviction, fueled much of the furor and frustration about the trial\\u2019s resolution, incomplete as it was. \\u201cIt saddens me, but I am not shocked,\\u201d said Howard Friedman, a civil rights lawyer and the former president of the National Police Accountability Project. \\u201cThe fact that out of 12 people you would find one person so prejudiced in favor of police is saddening, not shocking, because I know that kind of prejudice in favor of police is out there. \\u201d In Missouri, where an August 2014 police killing in Ferguson spurred both peaceful protests and unrest, State Senator Maria   said the outcome in Charleston had left her \\u201chopeless. \\u201d \\u201cWhen you have the video that shows that Walter Scott is running away and still you have a mistrial?\\u201d Ms.   said. Here in Charleston County, investigators at first believed Mr. Slager when he said he had been attacked. But Mr. Santana\\u2019s video, which emerged within days of the shooting and provoked international outrage, made Mr. Slager a pariah to many in law enforcement, an anomaly of policing who strayed far from his duties and oath when he opened fire and, prosecutors contended, tried to stage the scene to make the shooting appear justified. \\u201cOur whole criminal justice system rides on the back of law enforcement,\\u201d the chief prosecutor for Charleston County, Scarlett A. Wilson, said during her closing argument. \\u201cThey have to be held accountable when they mess up. It is very, very rare, but it does happen. \\u201d Ms. Wilson acknowledged from the beginning of the trial that she thought Mr. Scott had contributed to his own death by running away. \\u201cIf Walter Scott had stayed in that car, he wouldn\\u2019t have been shot,\\u201d Ms. Wilson said. \\u201cHe paid the extreme consequence for his conduct. He lost his life for his foolishness. \\u201d Ms. Wilson\\u2019s concession, which she made during her opening statement, was something of an effort to immunize the prosecution from a theory that the defense advanced throughout the trial: that Mr. Scott had acted in ways that made Mr. Slager fear for his life. In his closing argument, Mr. Savage said Mr. Scott had left the officer with little choice after he \\u201cmade decisions to attack a police officer. \\u201d \\u201cShould he have assumed that an unarmed man would have attacked a police officer?\\u201d Mr. Savage said of Mr. Slager, who he complained had been made a \\u201cposter boy\\u201d of police misconduct claims because of disputed killings elsewhere in the country. Mr. Slager pressed a similar argument when he testified that he had felt \\u201ctotal fear\\u201d and \\u201cfired until the threat was stopped, like I\\u2019m trained to do. \\u201d The jury here had three options, besides deadlocking: a conviction for murder, a conviction for voluntary manslaughter or an acquittal. In South Carolina, a murder conviction can lead to a life sentence, and manslaughter carries a term of two to 30 years. Mr. Slager\\u2019s case and its outcome were virtually certain to revive the storm that surrounded North Charleston, a city of about 108, 000 people, after Mr. Scott\\u2019s death. City officials, who agreed to a $6. 5 million settlement with Mr. Scott\\u2019s family, have long insisted that Mr. Slager was an outlier. But critics argued last year and again on Monday that the shooting was a tragic result of an aggressive law enforcement strategy carried out by a largely white police force. Drivers and pedestrians faced frequent stops for minor violations, and the police increased their presence, especially in   areas that happened to be predominantly black neighborhoods. The approach, community leaders said, eroded trust, and North Charleston\\u2019s Police Department is now the subject of a Justice Department review as part of a \\u201ccollaborative reform process. \\u201d Another arm of the Justice Department is involved in a different legal battle against Mr. Slager, who has been accused in a federal indictment of violating Mr. Scott\\u2019s civil rights. But Mr. Slager will now also face a second trial in state court, and lawyers will undoubtedly consider the feedback that emerged from a jury that appeared bitterly divided during deliberations, which began on Wednesday. In a letter to Judge Newman on Friday, a single juror said he could not \\u201cin good conscience consider a guilty verdict. \\u201d The jury\\u2019s foreman, the panel\\u2019s only black member, said in a separate note that the group was mostly in agreement that Mr. Slager should be convicted: \\u201cIt\\u2019s just one juror that has the issues. \\u201d The foreman also said: \\u201cThat juror needs to leave. He is having issues. \\u201d But on Monday morning, the jury said in another note that a majority of its members were \\u201cstill undecided. \\u201d Later, standing outside the courthouse on an overcast day, members of Mr. Scott\\u2019s family said they were not dwelling on a trial they had hoped would end with Mr. Slager bound for prison. \\u201cGod is my strength, and I know without a doubt that he is a just God,\\u201d said Mr. Scott\\u2019s mother, Judy Scott. \\u201cInjustice will not prevail. \\u201d\",\n          \"Stephanie Strom Foods Loaded With Sugar, Salt and Fat? Bring It - The New York Times BAKERSFIELD, Calif.  \\u2014   Dark chocolate is in. So, too, is beef jerky. And   ice cream? You bet. Driven by   definitions of what is healthy to eat, people are turning to foods they shunned just a couple of years ago. Studies now suggest that not all fat, for example, necessarily contributes to weight gain or heart problems. That has left companies scrambling to push some foods that they thought had long passed their popularity peak  \\u2014   and health advocates wondering what went wrong. Under the new thinking, not all fat is bad, and neither are all salty foods. A stigma among the public remains for sugar substitutes, but less so for cane sugar, at least in moderation. And all of those attributes are weighed against qualities like simplicity and taste. \\u201cI think the   equation has changed,\\u201d said Steve French, a managing partner at the Natural Marketing Institute, a research firm, said. Edy\\u2019s ice cream, known as Dreyer\\u2019s west of the Rockies, is a case in point. Edy\\u2019s sold 10. 8 percent more of its Edy\\u2019s Grand Ice Cream, a   ice cream, in the 52 weeks that ended Feb. 21 compared with the year before, according to IRI, a data and research firm. Other   ice creams also had sales gains. Over the same period, Edy\\u2019s sold 4. 8 percent less of its   Ice Cream, made with a process that lowers the fat content. When the product was introduced in 2004, it was promoted as having less fat and fewer calories  \\u2014   and sales soared. Now, that sort of marketing is gone. Instead, the company has retooled some of its   products to make them with fewer ingredients and to include cane sugar rather than   corn syrup, which many consumers don\\u2019t like. Labels on those ice creams will also tell consumers that they contain no genetically engineered ingredients. The devil, of course, is in the details of those new scientific findings. None of the new studies, for instance, recommend eating as much bacon as you want. \\u201cThe new definition of modern health is very different from the traditional view, which was to reduce fat, sugar and sodium,\\u201d said Robert Kilmer, president of Nestl\\u00e9 Dreyer\\u2019s Ice Cream, a division of Nestl\\u00e9 USA. \\u201cHealthy now is about what\\u2019s in my food and where did it come from. \\u201d Food companies have been working feverishly over the last several years to offer what consumers perceive as improved nutritional content and healthier food. Sales of products made from organic ingredients have risen sharply in recent years, for example. Mars Food, a division of the privately held Mars candy company whose brands include Uncle Ben\\u2019s and Dolmio, reduced sodium by over 20 percent in many of its products and recently announced a plan to go even further. And General Mills is eliminating artificial colors and flavors from its cereals  \\u2014   no more neon hues in Trix. But consumers are constantly recalculating the pros and cons of the foods they eat  \\u2014   leading to some unexpected foods rising in popularity. For example, in 2015, Americans checked the fat content on food labels less often than they did in 2006, according to research from the Natural Marketing Institute. They\\u2019re focusing more on the list of ingredients, a product\\u2019s environmental impact and animal welfare  \\u2014   the famous \\u201cFarm\\u201d episode in \\u201cPortlandia\\u201d in which a waitress can tell diners the name of the chicken they\\u2019ll be eating remains relevant five years after it was first shown. And don\\u2019t forget about taste. A majority of Americans say they value taste more than how healthy a food is. This can be frustrating for food executives, who spent years getting salt, sugar and fat out of a wide variety of products, paying high costs in development and marketing along the way. Michael Sharp, the research scientist at Nestl\\u00e9 who has presided over the reformulation of its   ice creams, noted that all of the ingredients he is working to eliminate today were originally added to the product for good reasons. \\u201cThe ingredients we\\u2019ve subtracted either had some functionality on their own or improved the functionality of other ingredients,\\u201d Mr. Sharp said. \\u201cCorn syrup adds a lot of body and bulk to a product  \\u2014   but the consumer doesn\\u2019t want it today. \\u201d Nutrition experts are watching the shift warily. Margo Wootan, director of nutrition policy at the Center for Science in the Public Interest, a research and advocacy group, noted that companies have gone a long way toward reducing or eliminating saturated fats, which raise cholesterol in the blood and increase the risk of heart disease. The American Heart Association and other health advocacy groups have long recommended limiting consumption of saturated fat. But in recent years, studies have suggested that maybe saturated fat is not as bad as once thought. One analysis of research on saturated fats, which generated some criticism, blurred the link between it and heart disease. Another study concluded that skim milk did not appear to restrict weight gain among young children. That rethinking seems to have encouraged some consumers to return to   foods. Edy\\u2019s French Vanilla Grand ice cream, for example, has four grams of saturated fat in every  . A   of the same flavor in its   variety, the recently less popular option, has 1. 5 grams of saturated fat. Similarly, the public appears to have been persuaded by some evidence that eating dark chocolate is good for the heart. Technavio, a market research firm, predicted that sales would increase an average of more than 8 percent a year through 2019. But the federal government also recommends a limit on total fat consumption  \\u2014   the combination of bad and good fats. An   bar of Ghirardelli 72% Intense Dark chocolate supplies more than the government\\u2019s daily recommendation for saturated fat and more than   of the recommendation for total fat. \\u201cThere are recommended limits on total fat that I think have sort of gotten lost in the marketing,\\u201d Ms. Wootan said. \\u201cThere\\u2019s nothing in science that tells you it\\u2019s healthy to eat as much fat as you want, just as long as it\\u2019s not saturated fat. \\u201d Another sore point among nutritionists is the rising sales of jerky, once regarded as little more than a sodium delivery mechanism. Now, as consumers clamor for foods high in protein, jerky has become a popular option. One ounce delivers about a quarter of the daily recommended amount of protein and costs roughly $2. 50. Sales of meat snacks like jerky shot up 46. 9 percent from 2011 to 2015, to more than $2. 6 billion, according to Nielsen, a market research firm. \\u201cJerky is manly, jerky is kind of rednecky and jerky can even be kind of offensive if people don\\u2019t know what it is,\\u201d said Troy Link, chief executive of Link Snacks, a   snack food business. \\u201cSo we changed things up and began calling it a protein snack, and now jerky is being eaten by   health eaters who haven\\u2019t been involved in the category before. \\u201d Link Snacks\\u2019 most popular product, Jack Link\\u2019s Teriyaki Beef Jerky, delivers 12 grams of protein and just 80 calories in a   serving  \\u2014   and   the daily recommended amount of sodium. Mr. Link said the company had worked to reduce the sodium in its products, along with getting rid of monosodium glutamate and nitrites. \\u201cFor the most part, sodium has become good again, and I think certain fats have become good again, too,\\u201d he said. \\u201cAt the end of the day,\\u201d he said, \\u201cpeople want something that tastes good. \\u201d\"\n        ],\n        \"semantic_type\": \"\",\n        \"description\": \"\"\n      }\n    }\n  ]\n}"
            }
          },
          "metadata": {},
          "execution_count": 11
        }
      ]
    },
    {
      "cell_type": "code",
      "source": [
        "data.tail()"
      ],
      "metadata": {
        "colab": {
          "base_uri": "https://localhost:8080/",
          "height": 206
        },
        "id": "XVvbOeHfYddq",
        "outputId": "067d3d36-3642-4315-ebca-37043fb92115"
      },
      "execution_count": 12,
      "outputs": [
        {
          "output_type": "execute_result",
          "data": {
            "text/plain": [
              "       label                                            content\n",
              "20795      0  Jerome Hudson Rapper T.I.: Trump a ’Poster Chi...\n",
              "20796      0  Benjamin Hoffman N.F.L. Playoffs: Schedule, Ma...\n",
              "20797      0  Michael J. de la Merced and Rachel Abrams Macy...\n",
              "20798      1  Alex Ansary NATO, Russia To Hold Parallel Exer...\n",
              "20799      1  David Swanson What Keeps the F-35 Alive   Davi..."
            ],
            "text/html": [
              "\n",
              "  <div id=\"df-db737102-1b58-40dc-a1b4-059d6b73d6ea\" class=\"colab-df-container\">\n",
              "    <div>\n",
              "<style scoped>\n",
              "    .dataframe tbody tr th:only-of-type {\n",
              "        vertical-align: middle;\n",
              "    }\n",
              "\n",
              "    .dataframe tbody tr th {\n",
              "        vertical-align: top;\n",
              "    }\n",
              "\n",
              "    .dataframe thead th {\n",
              "        text-align: right;\n",
              "    }\n",
              "</style>\n",
              "<table border=\"1\" class=\"dataframe\">\n",
              "  <thead>\n",
              "    <tr style=\"text-align: right;\">\n",
              "      <th></th>\n",
              "      <th>label</th>\n",
              "      <th>content</th>\n",
              "    </tr>\n",
              "  </thead>\n",
              "  <tbody>\n",
              "    <tr>\n",
              "      <th>20795</th>\n",
              "      <td>0</td>\n",
              "      <td>Jerome Hudson Rapper T.I.: Trump a ’Poster Chi...</td>\n",
              "    </tr>\n",
              "    <tr>\n",
              "      <th>20796</th>\n",
              "      <td>0</td>\n",
              "      <td>Benjamin Hoffman N.F.L. Playoffs: Schedule, Ma...</td>\n",
              "    </tr>\n",
              "    <tr>\n",
              "      <th>20797</th>\n",
              "      <td>0</td>\n",
              "      <td>Michael J. de la Merced and Rachel Abrams Macy...</td>\n",
              "    </tr>\n",
              "    <tr>\n",
              "      <th>20798</th>\n",
              "      <td>1</td>\n",
              "      <td>Alex Ansary NATO, Russia To Hold Parallel Exer...</td>\n",
              "    </tr>\n",
              "    <tr>\n",
              "      <th>20799</th>\n",
              "      <td>1</td>\n",
              "      <td>David Swanson What Keeps the F-35 Alive   Davi...</td>\n",
              "    </tr>\n",
              "  </tbody>\n",
              "</table>\n",
              "</div>\n",
              "    <div class=\"colab-df-buttons\">\n",
              "\n",
              "  <div class=\"colab-df-container\">\n",
              "    <button class=\"colab-df-convert\" onclick=\"convertToInteractive('df-db737102-1b58-40dc-a1b4-059d6b73d6ea')\"\n",
              "            title=\"Convert this dataframe to an interactive table.\"\n",
              "            style=\"display:none;\">\n",
              "\n",
              "  <svg xmlns=\"http://www.w3.org/2000/svg\" height=\"24px\" viewBox=\"0 -960 960 960\">\n",
              "    <path d=\"M120-120v-720h720v720H120Zm60-500h600v-160H180v160Zm220 220h160v-160H400v160Zm0 220h160v-160H400v160ZM180-400h160v-160H180v160Zm440 0h160v-160H620v160ZM180-180h160v-160H180v160Zm440 0h160v-160H620v160Z\"/>\n",
              "  </svg>\n",
              "    </button>\n",
              "\n",
              "  <style>\n",
              "    .colab-df-container {\n",
              "      display:flex;\n",
              "      gap: 12px;\n",
              "    }\n",
              "\n",
              "    .colab-df-convert {\n",
              "      background-color: #E8F0FE;\n",
              "      border: none;\n",
              "      border-radius: 50%;\n",
              "      cursor: pointer;\n",
              "      display: none;\n",
              "      fill: #1967D2;\n",
              "      height: 32px;\n",
              "      padding: 0 0 0 0;\n",
              "      width: 32px;\n",
              "    }\n",
              "\n",
              "    .colab-df-convert:hover {\n",
              "      background-color: #E2EBFA;\n",
              "      box-shadow: 0px 1px 2px rgba(60, 64, 67, 0.3), 0px 1px 3px 1px rgba(60, 64, 67, 0.15);\n",
              "      fill: #174EA6;\n",
              "    }\n",
              "\n",
              "    .colab-df-buttons div {\n",
              "      margin-bottom: 4px;\n",
              "    }\n",
              "\n",
              "    [theme=dark] .colab-df-convert {\n",
              "      background-color: #3B4455;\n",
              "      fill: #D2E3FC;\n",
              "    }\n",
              "\n",
              "    [theme=dark] .colab-df-convert:hover {\n",
              "      background-color: #434B5C;\n",
              "      box-shadow: 0px 1px 3px 1px rgba(0, 0, 0, 0.15);\n",
              "      filter: drop-shadow(0px 1px 2px rgba(0, 0, 0, 0.3));\n",
              "      fill: #FFFFFF;\n",
              "    }\n",
              "  </style>\n",
              "\n",
              "    <script>\n",
              "      const buttonEl =\n",
              "        document.querySelector('#df-db737102-1b58-40dc-a1b4-059d6b73d6ea button.colab-df-convert');\n",
              "      buttonEl.style.display =\n",
              "        google.colab.kernel.accessAllowed ? 'block' : 'none';\n",
              "\n",
              "      async function convertToInteractive(key) {\n",
              "        const element = document.querySelector('#df-db737102-1b58-40dc-a1b4-059d6b73d6ea');\n",
              "        const dataTable =\n",
              "          await google.colab.kernel.invokeFunction('convertToInteractive',\n",
              "                                                    [key], {});\n",
              "        if (!dataTable) return;\n",
              "\n",
              "        const docLinkHtml = 'Like what you see? Visit the ' +\n",
              "          '<a target=\"_blank\" href=https://colab.research.google.com/notebooks/data_table.ipynb>data table notebook</a>'\n",
              "          + ' to learn more about interactive tables.';\n",
              "        element.innerHTML = '';\n",
              "        dataTable['output_type'] = 'display_data';\n",
              "        await google.colab.output.renderOutput(dataTable, element);\n",
              "        const docLink = document.createElement('div');\n",
              "        docLink.innerHTML = docLinkHtml;\n",
              "        element.appendChild(docLink);\n",
              "      }\n",
              "    </script>\n",
              "  </div>\n",
              "\n",
              "\n",
              "<div id=\"df-75fbeeb6-01c5-41e7-a41e-0df61b3e8055\">\n",
              "  <button class=\"colab-df-quickchart\" onclick=\"quickchart('df-75fbeeb6-01c5-41e7-a41e-0df61b3e8055')\"\n",
              "            title=\"Suggest charts\"\n",
              "            style=\"display:none;\">\n",
              "\n",
              "<svg xmlns=\"http://www.w3.org/2000/svg\" height=\"24px\"viewBox=\"0 0 24 24\"\n",
              "     width=\"24px\">\n",
              "    <g>\n",
              "        <path d=\"M19 3H5c-1.1 0-2 .9-2 2v14c0 1.1.9 2 2 2h14c1.1 0 2-.9 2-2V5c0-1.1-.9-2-2-2zM9 17H7v-7h2v7zm4 0h-2V7h2v10zm4 0h-2v-4h2v4z\"/>\n",
              "    </g>\n",
              "</svg>\n",
              "  </button>\n",
              "\n",
              "<style>\n",
              "  .colab-df-quickchart {\n",
              "      --bg-color: #E8F0FE;\n",
              "      --fill-color: #1967D2;\n",
              "      --hover-bg-color: #E2EBFA;\n",
              "      --hover-fill-color: #174EA6;\n",
              "      --disabled-fill-color: #AAA;\n",
              "      --disabled-bg-color: #DDD;\n",
              "  }\n",
              "\n",
              "  [theme=dark] .colab-df-quickchart {\n",
              "      --bg-color: #3B4455;\n",
              "      --fill-color: #D2E3FC;\n",
              "      --hover-bg-color: #434B5C;\n",
              "      --hover-fill-color: #FFFFFF;\n",
              "      --disabled-bg-color: #3B4455;\n",
              "      --disabled-fill-color: #666;\n",
              "  }\n",
              "\n",
              "  .colab-df-quickchart {\n",
              "    background-color: var(--bg-color);\n",
              "    border: none;\n",
              "    border-radius: 50%;\n",
              "    cursor: pointer;\n",
              "    display: none;\n",
              "    fill: var(--fill-color);\n",
              "    height: 32px;\n",
              "    padding: 0;\n",
              "    width: 32px;\n",
              "  }\n",
              "\n",
              "  .colab-df-quickchart:hover {\n",
              "    background-color: var(--hover-bg-color);\n",
              "    box-shadow: 0 1px 2px rgba(60, 64, 67, 0.3), 0 1px 3px 1px rgba(60, 64, 67, 0.15);\n",
              "    fill: var(--button-hover-fill-color);\n",
              "  }\n",
              "\n",
              "  .colab-df-quickchart-complete:disabled,\n",
              "  .colab-df-quickchart-complete:disabled:hover {\n",
              "    background-color: var(--disabled-bg-color);\n",
              "    fill: var(--disabled-fill-color);\n",
              "    box-shadow: none;\n",
              "  }\n",
              "\n",
              "  .colab-df-spinner {\n",
              "    border: 2px solid var(--fill-color);\n",
              "    border-color: transparent;\n",
              "    border-bottom-color: var(--fill-color);\n",
              "    animation:\n",
              "      spin 1s steps(1) infinite;\n",
              "  }\n",
              "\n",
              "  @keyframes spin {\n",
              "    0% {\n",
              "      border-color: transparent;\n",
              "      border-bottom-color: var(--fill-color);\n",
              "      border-left-color: var(--fill-color);\n",
              "    }\n",
              "    20% {\n",
              "      border-color: transparent;\n",
              "      border-left-color: var(--fill-color);\n",
              "      border-top-color: var(--fill-color);\n",
              "    }\n",
              "    30% {\n",
              "      border-color: transparent;\n",
              "      border-left-color: var(--fill-color);\n",
              "      border-top-color: var(--fill-color);\n",
              "      border-right-color: var(--fill-color);\n",
              "    }\n",
              "    40% {\n",
              "      border-color: transparent;\n",
              "      border-right-color: var(--fill-color);\n",
              "      border-top-color: var(--fill-color);\n",
              "    }\n",
              "    60% {\n",
              "      border-color: transparent;\n",
              "      border-right-color: var(--fill-color);\n",
              "    }\n",
              "    80% {\n",
              "      border-color: transparent;\n",
              "      border-right-color: var(--fill-color);\n",
              "      border-bottom-color: var(--fill-color);\n",
              "    }\n",
              "    90% {\n",
              "      border-color: transparent;\n",
              "      border-bottom-color: var(--fill-color);\n",
              "    }\n",
              "  }\n",
              "</style>\n",
              "\n",
              "  <script>\n",
              "    async function quickchart(key) {\n",
              "      const quickchartButtonEl =\n",
              "        document.querySelector('#' + key + ' button');\n",
              "      quickchartButtonEl.disabled = true;  // To prevent multiple clicks.\n",
              "      quickchartButtonEl.classList.add('colab-df-spinner');\n",
              "      try {\n",
              "        const charts = await google.colab.kernel.invokeFunction(\n",
              "            'suggestCharts', [key], {});\n",
              "      } catch (error) {\n",
              "        console.error('Error during call to suggestCharts:', error);\n",
              "      }\n",
              "      quickchartButtonEl.classList.remove('colab-df-spinner');\n",
              "      quickchartButtonEl.classList.add('colab-df-quickchart-complete');\n",
              "    }\n",
              "    (() => {\n",
              "      let quickchartButtonEl =\n",
              "        document.querySelector('#df-75fbeeb6-01c5-41e7-a41e-0df61b3e8055 button');\n",
              "      quickchartButtonEl.style.display =\n",
              "        google.colab.kernel.accessAllowed ? 'block' : 'none';\n",
              "    })();\n",
              "  </script>\n",
              "</div>\n",
              "\n",
              "    </div>\n",
              "  </div>\n"
            ],
            "application/vnd.google.colaboratory.intrinsic+json": {
              "type": "dataframe",
              "summary": "{\n  \"name\": \"data\",\n  \"rows\": 5,\n  \"fields\": [\n    {\n      \"column\": \"label\",\n      \"properties\": {\n        \"dtype\": \"number\",\n        \"std\": 0,\n        \"min\": 0,\n        \"max\": 1,\n        \"num_unique_values\": 2,\n        \"samples\": [\n          1,\n          0\n        ],\n        \"semantic_type\": \"\",\n        \"description\": \"\"\n      }\n    },\n    {\n      \"column\": \"content\",\n      \"properties\": {\n        \"dtype\": \"string\",\n        \"num_unique_values\": 5,\n        \"samples\": [\n          \"Benjamin Hoffman N.F.L. Playoffs: Schedule, Matchups and Odds - The New York Times When the Green Bay Packers lost to the Washington Redskins in Week 11, dropping to   Aaron Rodgers vowed to \\u201crun the table\\u201d in a march to the playoffs. With a   victory over the Detroit Lions on Sunday night, the team fulfilled Rodgers\\u2019 promise. Much of the drama of the matchup between division rivals was eliminated earlier in the day when the Redskins lost to the Giants, thus guaranteeing both the Packers and Lions would be playoff teams, but the N. F. C. North bragging rights, and a home game in the first round of the playoffs, were sufficient motivation for Green Bay to push hard enough to secure the team\\u2019s sixth consecutive win and the third consecutive loss for Detroit. Pundits had spent the week deciphering all of the wild scenarios that could play out for positioning among the remaining teams. But when all was said and done, ten of the teams that were in line for a playoff spot remained in the same seeding order. No. 6 Detroit Lions at No. 3 Seattle Seahawks Time: 8:15 p. m. Eastern SATURDAY on NBC The Seahawks\\u2019 title hopes took a crushing blow when Earl Thomas was lost for the season with a broken leg. After the injury, the Seahawks went   with the wins coming with major asterisks as they came against the   Rams and 49ers. That collapse paled in comparison to the Lions, who lost their final three games, blowing what had been a large division lead against Green Bay. Line: Seahawks   ( : 43) No. 5 Giants at No. 4 Green Bay Packers Time: 4:40 p. m. Eastern SUNDAY on Fox Thanks to playing in the N. F. C. East, home of the   Dallas Cowboys, the Giants managed to tie Atlanta for the   record in the N. F. C. but got stuck with the No. 5 seed in the playoffs and a road game against a   Packers squad that won its final six games. The good news for the Giants is that superstitious fans will note that the last two times they played the Packers on the road in the playoffs, they not only won the games but went on to win the Super Bowl both times. Line: Packers   ( : 44. 5) Bye weeks: Dallas, Atlanta No. 5 Oakland Raiders at No. 4 Houston Texans Time: 4:35 p. m. Eastern SATURDAY on ESPN Line: Texans   ( : 37) The Texans were the least inspiring of the N. F. L. \\u2019s division champions and that was complicated further when Tom Savage, whom the team had elevated to starting quarterback after the benching of Brock Osweiler, was forced to leave Week 17\\u2019s loss to Tennessee with a concussion. As bad as that sounds, it may still be enough against a reeling Oakland squad that lost Derek Carr to a broken leg in Week 16, Matt McGloin to a shoulder injury in Week 17, and fell all the way from the No. 2 seed in the A. F. C. to No. 5. It is unclear at this point if McGloin or rookie Connor Cook will start at quarterback against Houston. No. 6 Miami Dolphins at No. 3 Pittsburgh Steelers Time: 1:05 p. m. Eastern SUNDAY on CBS The Dolphins were a contender when the team\\u2019s quarterback, Ryan Tannehill, was lost in Week 14 with injured ligaments in his left knee. Thanks to backup quarterback Matt Moore, and Jay Ajayi, the team\\u2019s   running back, they won two of three games and secured a   berth. But going up against a   offense like Pittsburgh is a tough test for Miami\\u2019s middling defense, even if Tannehill\\u2019s knee heals enough to allow him to return. Line: Steelers  .5 ( : 47. 5) Bye weeks: New England, Kansas City With four teams vying for two N. F. C. playoff spots, all eyes were on the   game on Sunday. A Redskins victory could have caused movement in the seedings, with the Lions and Packers playing a     evening matchup. The Giants, who had already locked up the No. 5 seed and had nothing to gain, threw a wrench in the Redskins\\u2019 plans, eliminating their division rivals with a decisive   victory. With the drama essentially taken out of the N. F. C. all of the playoff movement Sunday occurred in the A. F. C. where there was a   at the top of the standings in the A. F. C. West. Just a week after losing Derek Carr, the team\\u2019s quarterback and a legitimate candidate for most valuable player, to a broken leg, the Oakland Raiders were crushed   by the Denver Broncos. That, combined with the Kansas City Chiefs\\u2019   victory over the San Diego Chargers vaulted the Chiefs from a   spot all the way to the No. 2 seed in the A. F. C. which comes with a   bye in the playoffs. The loss for Oakland added to the misery of the Raiders, who have gone from Super Bowl contenders last week to a   team that will play on the road in Houston next week potentially with a   quarterback under center as Carr\\u2019s backup, Matt McGloin, injured his shoulder in the loss to the Broncos. Beyond the switch to the Chiefs as the No.   in the A. F. C. it was business as usual for the teams that will get bye weeks in the playoffs. The New England Patriots secured the No. 1 spot in the A. F. C. with a win over Miami, the Dallas Cowboys were already guaranteed the No. 1 spot in the N. F. C. before their loss to Philadelphia, and the Atlanta Falcons held onto the No. 2 seed in the N. F. C. with a   win over New Orleans. The only remaining chance for a minor   was for the Packers, who led their division by virtue of a tiebreaker, to lose to the Lions, which would have forced them to play on the road in the   round of the playoffs. But the    aspect of the de facto N. F. C. North championship went away when the Redskins lost to the Giants, which eliminated the Redskins from   contention. While most of the races were straight forward, one of the crazier playoff scenarios that had been discussed before the week was the possibility that the Tampa Bay Buccaneers could find themselves in the playoffs. They simply had to shoot the moon by beating the Carolina Panthers, having the Redskins tie the Giants, the Packers lose to the Lions, and should all of that happen they simply required wins by Indianapolis, Dallas, Tennessee and San Francisco to top the Packers in strength of schedule. Tampa Bay took care of their end by beating the Panthers early in the day, but they were eliminated officially when Dallas lost to Philadelphia.\",\n          \"David Swanson What Keeps the F-35 Alive   David Swanson is an author, activist, journalist, and radio host. He is a 2015 Nobel Peace Prize Nominee. He is director of WorldBeyondWar.com and campaign coordinator for RootsAction.org . He hosts Talk Nation Radio . Talk Nation Radio is on VT Radio and is syndicated by Pacifica Network. The show also airs on WTJU, Charlottesville, VA; WCSX-Detroit, MI; KGHI, Westport, WA; WHUS, Storrs, CT; WPRR, Grand Rapids, MI; KRFP-LP, Moscow, ID; KZGM, Cabool, MO; KMUD, Garberville, CA; WAZU, Peoria, IL; WXRD, Crown Point, IN; Geneva Radio, Geneva, NY; KKRN, Round Mountain, CA; KSKQ-LP, Ashland, OR; WUOW-LP, Oneonta, NY; No Lies Radio, Pinole, CA; WYAP-LP, Clay, WV; The Detour, Johnson City, TN; WZRD, Chicago, IL; WEFT, Champaign, IL; WXPI, Pittsburgh, PA; WDRT, Viroqua, WI; Veracity Now, online; Liberty and Justice Radio, Shirley, MA; Ithaca Community Radio, Ithaca, NY; WMCB, Greenfield, MA; PRX.org; KAOS 89.3fm, Olympia, WA; WUSB 90.1 FM, Stony Brook, NY; WOOL-FM, Bellow Falls, Vermont; WSLR-LP 96.5 in Sarasota, Florida. He also blogs at DavidSwanson.org and WarIsACrime.org And is a prolific author. His latest books are; War Is A Lie , Daybreak: Undoing the Imperial Presidency and Forming a More Perfect Union , and When the World Outlawed War Swanson holds a master's degree in philosophy from the University of Virginia. He has worked as a newspaper reporter and as a communications director, with jobs including press secretary for Dennis Kucinich's 2004 presidential campaign, media coordinator for the International Labor Communications Association, and three years as communications coordinator for ACORN, the Association of Community Organizations for Reform Now. Read his full and complete biography at DavidSwanson.org and also visit book site at War Is Crime . What Keeps the F-35 Alive By David Swanson on October 31, 2016 Petition to Stop F-35 Going Global \\nby David Swanson \\nImagine if a local business in your town invented a brand new tool that was intended to have an almost magical effect thousands of miles away. However, where the tool was kept and used locally became an area unsafe for children. Children who got near this tool tended to have increased blood pressure and increased stress hormones, lower reading skills, poorer memories, impaired auditory and speech perception, and impaired academic performance. \\nMost of us would find this situation at least a little concerning, unless the new invention was designed to murder lots of people. Then it\\u2019d be just fine. \\nNow, imagine if this same new tool ruined neighborhoods because people couldn\\u2019t safely live near it. Imagine if the government had to compensate people but kick them out of living near the location of this tool. Again, I think, we might find that troubling if mass murder were not the mission. \\nImagine also that this tool fairly frequently explodes, emitting highly toxic chemicals, particles, and fibers unsafe to breathe into the air for miles around. Normally, that\\u2019d be a problem. But if this tool is needed for killing lots of people, we\\u2019ll work with its flaws, won\\u2019t we? \\nNow, what if this new gadget was expected to cost at least $1,400,000,000,000 over 50 years? And what if that money had to be taken away from numerous other expenses more beneficial for the economy and the world? What if the $1.4 trillion was drained out of the economy causing a loss of jobs and a radical diminuition of resources for education, healthcare, housing, environmental protection, or humanitarian aid? Wouldn\\u2019t that be a worry in some cases, I mean in those cases where the ability to kill tons of human beings wasn\\u2019t at stake? \\nWhat if this product, even when working perfectly, was a leading destroyer of the earth\\u2019s natural environment? \\nWhat if this high-tech toy wasn\\u2019t even designed to do what was expected of it and wasn\\u2019t even able to do what it was designed for? \\nAmazingly, even those shortcomings do not matter as long as the intention is massive murder and destruction. Then, all is forgiven. \\nThe tool I\\u2019m describing is called the F-35. At RootsAction.org you can find a new petition launched by locally-minded people acting globally in places where the F-35 is intended to be based. Also at that link you\\u2019ll find explanations of how the tool I\\u2019ve been decribing is the F-35. \\nThe petition is directed to the United States Congress and the governments of Australia, Italy, the Netherlands, Norway, Turkey, the United Kingdom, Israel, Japan and South Korea from the world and from the people of Burlington, Vermont, and Fairbanks, Alaska, where the F-35 is to be based. This effort is being initiated by Vermont Stop the F35 Coalition, Save Our Skies Vermont, Western Maine Matters, Alaska Peace Center, University of Alaska Fairbanks Peace Club, North Star Chapter 146 Veterans For Peace, World Beyond War, RootsAction.org, Code Pink, and Ben Cohen. \\nThe petition reads: \\nThe F-35 is a weapon of offensive war, serving no defensive purpose. It is planned to cost the U.S. $1.4 trillion over 50 years. Because starvation on earth could be ended for $30 billion and the lack of clean drinking water for $11 billion per year, it is first and foremost through the wasting of resources that this airplane will kill. Military spending, contrary to popular misconception, also hurts the U.S. economy ( see here ) and other economies. The F-35 causes negative health impacts and cognitive impairment in children living near its bases. It renders housing near airports unsuitable for residential use. It has a high crash rate and horrible consequences to those living in the area of its crashes. Its emissions are a major environmental polluter. \\nWars are endangering the United States and other participating nations rather than protecting them. Nonviolent tools of law, diplomacy, aid, crisis prevention, and verifiable nuclear disarmament should be substituted for continuing counterproductive wars. Therefore, we, the undersigned, call for the immediate cancellation of the F-35 program as a whole, and the immediate cancellation of plans to base any such dangerous and noisy jets near populated areas. We oppose replacing the F-35 with any other weapon or basing the F-35 in any other locations. We further demand redirection of the money for the F-35 back into taxpayers\\u2019 pockets, and into environmental and human needs in the U.S., other F-35 customer nations, and around the world, including to fight climate change, pay off student debt, rebuild crumbling infrastructure, and improve education, healthcare, and housing. \\nAdd your name . \\nDavid Swanson is an author, activist, journalist, and radio host. He is director of WorldBeyondWar.org and campaign coordinator for RootsAction.org . Swanson\\u2019s books include War Is A Lie . He blogs at DavidSwanson.org and WarIsACrime.org . He hosts Talk Nation Radio .He is a 2015 and 2016 Nobel Peace Prize Nominee. \\nFollow him on Twitter: @davidcnswanson and FaceBook . \\nHelp support DavidSwanson.org, WarIsACrime.org, and TalkNationRadio.org by clicking here: http://davidswanson.org/donate .\"\n        ],\n        \"semantic_type\": \"\",\n        \"description\": \"\"\n      }\n    }\n  ]\n}"
            }
          },
          "metadata": {},
          "execution_count": 12
        }
      ]
    },
    {
      "cell_type": "code",
      "source": [
        "data.shape"
      ],
      "metadata": {
        "colab": {
          "base_uri": "https://localhost:8080/"
        },
        "id": "WTBw4uouY1cJ",
        "outputId": "a6e25b8f-c8ec-4d92-89db-a63223587ca9"
      },
      "execution_count": 13,
      "outputs": [
        {
          "output_type": "execute_result",
          "data": {
            "text/plain": [
              "(20800, 2)"
            ]
          },
          "metadata": {},
          "execution_count": 13
        }
      ]
    },
    {
      "cell_type": "code",
      "source": [
        "data['content']=data['content'].apply(lambda x:\" \".join(x.lower() for x in x.split()))"
      ],
      "metadata": {
        "id": "Mo8aVID8Y34q"
      },
      "execution_count": 14,
      "outputs": []
    },
    {
      "cell_type": "code",
      "source": [
        "data['content']=data['content'].str.replace('[^\\w\\s]','')"
      ],
      "metadata": {
        "id": "meeOYg3baswQ"
      },
      "execution_count": 15,
      "outputs": []
    },
    {
      "cell_type": "code",
      "source": [
        "from nltk.corpus import stopwords\n",
        "stop=stopwords.words('english')\n",
        "data['content']=data['content'].apply(lambda x:\" \".join(x for x in x.split() if x not in stop))"
      ],
      "metadata": {
        "id": "aJE-R8RqbAqw"
      },
      "execution_count": 19,
      "outputs": []
    },
    {
      "cell_type": "code",
      "source": [
        "import nltk\n",
        "nltk.download('stopwords')"
      ],
      "metadata": {
        "colab": {
          "base_uri": "https://localhost:8080/"
        },
        "id": "MJUcWWyUvBW0",
        "outputId": "408445a8-e5e1-4751-8602-bcd14bd25562"
      },
      "execution_count": 18,
      "outputs": [
        {
          "output_type": "stream",
          "name": "stderr",
          "text": [
            "[nltk_data] Downloading package stopwords to /root/nltk_data...\n",
            "[nltk_data]   Unzipping corpora/stopwords.zip.\n"
          ]
        },
        {
          "output_type": "execute_result",
          "data": {
            "text/plain": [
              "True"
            ]
          },
          "metadata": {},
          "execution_count": 18
        }
      ]
    },
    {
      "cell_type": "code",
      "source": [
        "import nltk\n",
        "nltk.download('stopwords')"
      ],
      "metadata": {
        "colab": {
          "base_uri": "https://localhost:8080/"
        },
        "id": "28aAYG9ocd-S",
        "outputId": "d5a6cdc0-e21a-4b12-8a03-0ed5a492496d"
      },
      "execution_count": 20,
      "outputs": [
        {
          "output_type": "stream",
          "name": "stderr",
          "text": [
            "[nltk_data] Downloading package stopwords to /root/nltk_data...\n",
            "[nltk_data]   Package stopwords is already up-to-date!\n"
          ]
        },
        {
          "output_type": "execute_result",
          "data": {
            "text/plain": [
              "True"
            ]
          },
          "metadata": {},
          "execution_count": 20
        }
      ]
    },
    {
      "cell_type": "code",
      "source": [
        "from nltk.stem import WordNetLemmatizer\n",
        "from textblob import Word\n",
        "data['content']=data['content'].apply(lambda x: \" \".join([Word(word).lemmatize() for word in x.split()]))\n",
        "data['content'].head()"
      ],
      "metadata": {
        "colab": {
          "base_uri": "https://localhost:8080/",
          "height": 241
        },
        "id": "rWhLnjq5cgbg",
        "outputId": "2cb247a8-4268-4b88-8d0a-7c09317eba14"
      },
      "execution_count": 23,
      "outputs": [
        {
          "output_type": "execute_result",
          "data": {
            "text/plain": [
              "0    darrell lucus house dem aide: didn’t even see ...\n",
              "1    daniel j. flynn flynn: hillary clinton, big wo...\n",
              "2    consortiumnews.com truth might get fired truth...\n",
              "3    jessica purkiss 15 civilian killed single u ai...\n",
              "4    howard portnoy iranian woman jailed fictional ...\n",
              "Name: content, dtype: object"
            ],
            "text/html": [
              "<div>\n",
              "<style scoped>\n",
              "    .dataframe tbody tr th:only-of-type {\n",
              "        vertical-align: middle;\n",
              "    }\n",
              "\n",
              "    .dataframe tbody tr th {\n",
              "        vertical-align: top;\n",
              "    }\n",
              "\n",
              "    .dataframe thead th {\n",
              "        text-align: right;\n",
              "    }\n",
              "</style>\n",
              "<table border=\"1\" class=\"dataframe\">\n",
              "  <thead>\n",
              "    <tr style=\"text-align: right;\">\n",
              "      <th></th>\n",
              "      <th>content</th>\n",
              "    </tr>\n",
              "  </thead>\n",
              "  <tbody>\n",
              "    <tr>\n",
              "      <th>0</th>\n",
              "      <td>darrell lucus house dem aide: didn’t even see ...</td>\n",
              "    </tr>\n",
              "    <tr>\n",
              "      <th>1</th>\n",
              "      <td>daniel j. flynn flynn: hillary clinton, big wo...</td>\n",
              "    </tr>\n",
              "    <tr>\n",
              "      <th>2</th>\n",
              "      <td>consortiumnews.com truth might get fired truth...</td>\n",
              "    </tr>\n",
              "    <tr>\n",
              "      <th>3</th>\n",
              "      <td>jessica purkiss 15 civilian killed single u ai...</td>\n",
              "    </tr>\n",
              "    <tr>\n",
              "      <th>4</th>\n",
              "      <td>howard portnoy iranian woman jailed fictional ...</td>\n",
              "    </tr>\n",
              "  </tbody>\n",
              "</table>\n",
              "</div><br><label><b>dtype:</b> object</label>"
            ]
          },
          "metadata": {},
          "execution_count": 23
        }
      ]
    },
    {
      "cell_type": "code",
      "source": [
        "from nltk.stem import WordNetLemmatizer\n",
        "from textblob import Word\n",
        "\n",
        "data['content'] = data['content'].apply(lambda x: \" \".join([Word(word).lemmatize() for word in x.split()]))\n",
        "data['content'].head()\n"
      ],
      "metadata": {
        "colab": {
          "base_uri": "https://localhost:8080/",
          "height": 241
        },
        "id": "rtMHs6ZtdBOh",
        "outputId": "33e96401-508c-432f-f991-7fee70935a13"
      },
      "execution_count": 24,
      "outputs": [
        {
          "output_type": "execute_result",
          "data": {
            "text/plain": [
              "0    darrell lucus house dem aide: didn’t even see ...\n",
              "1    daniel j. flynn flynn: hillary clinton, big wo...\n",
              "2    consortiumnews.com truth might get fired truth...\n",
              "3    jessica purkiss 15 civilian killed single u ai...\n",
              "4    howard portnoy iranian woman jailed fictional ...\n",
              "Name: content, dtype: object"
            ],
            "text/html": [
              "<div>\n",
              "<style scoped>\n",
              "    .dataframe tbody tr th:only-of-type {\n",
              "        vertical-align: middle;\n",
              "    }\n",
              "\n",
              "    .dataframe tbody tr th {\n",
              "        vertical-align: top;\n",
              "    }\n",
              "\n",
              "    .dataframe thead th {\n",
              "        text-align: right;\n",
              "    }\n",
              "</style>\n",
              "<table border=\"1\" class=\"dataframe\">\n",
              "  <thead>\n",
              "    <tr style=\"text-align: right;\">\n",
              "      <th></th>\n",
              "      <th>content</th>\n",
              "    </tr>\n",
              "  </thead>\n",
              "  <tbody>\n",
              "    <tr>\n",
              "      <th>0</th>\n",
              "      <td>darrell lucus house dem aide: didn’t even see ...</td>\n",
              "    </tr>\n",
              "    <tr>\n",
              "      <th>1</th>\n",
              "      <td>daniel j. flynn flynn: hillary clinton, big wo...</td>\n",
              "    </tr>\n",
              "    <tr>\n",
              "      <th>2</th>\n",
              "      <td>consortiumnews.com truth might get fired truth...</td>\n",
              "    </tr>\n",
              "    <tr>\n",
              "      <th>3</th>\n",
              "      <td>jessica purkiss 15 civilian killed single u ai...</td>\n",
              "    </tr>\n",
              "    <tr>\n",
              "      <th>4</th>\n",
              "      <td>howard portnoy iranian woman jailed fictional ...</td>\n",
              "    </tr>\n",
              "  </tbody>\n",
              "</table>\n",
              "</div><br><label><b>dtype:</b> object</label>"
            ]
          },
          "metadata": {},
          "execution_count": 24
        }
      ]
    },
    {
      "cell_type": "code",
      "source": [
        "import nltk\n",
        "nltk.download('wordnet')"
      ],
      "metadata": {
        "colab": {
          "base_uri": "https://localhost:8080/"
        },
        "id": "AL7s5segd4Nt",
        "outputId": "d8aad71a-a050-4ef2-f18f-e6f573341455"
      },
      "execution_count": 22,
      "outputs": [
        {
          "output_type": "stream",
          "name": "stderr",
          "text": [
            "[nltk_data] Downloading package wordnet to /root/nltk_data...\n"
          ]
        },
        {
          "output_type": "execute_result",
          "data": {
            "text/plain": [
              "True"
            ]
          },
          "metadata": {},
          "execution_count": 22
        }
      ]
    },
    {
      "cell_type": "code",
      "source": [
        "X=data['content']\n",
        "Y=data['label']"
      ],
      "metadata": {
        "id": "JLVeDzFJd9jw"
      },
      "execution_count": 25,
      "outputs": []
    },
    {
      "cell_type": "code",
      "source": [
        "from sklearn.model_selection import train_test_split\n",
        "X_train,X_test,Y_train,Y_test=train_test_split(X,Y,test_size=0.2,random_state=42)"
      ],
      "metadata": {
        "id": "rr0Qo4JPehU8"
      },
      "execution_count": 26,
      "outputs": []
    },
    {
      "cell_type": "code",
      "source": [
        "\n",
        "X = data[['content']]\n",
        "Y = data['label']"
      ],
      "metadata": {
        "id": "1tA5ny5eeuAf"
      },
      "execution_count": 27,
      "outputs": []
    },
    {
      "cell_type": "code",
      "source": [
        "from sklearn.feature_extraction.text import TfidfVectorizer"
      ],
      "metadata": {
        "id": "yVvlFm5nfXQ1"
      },
      "execution_count": 28,
      "outputs": []
    },
    {
      "cell_type": "code",
      "source": [
        "tfidf_vect=TfidfVectorizer(analyzer='word',token_pattern=r'\\w{1}',max_features=5000)\n",
        "tfidf_vect.fit(data['content'])\n",
        "xtrain_tfidf=tfidf_vect.transform(X_train)\n",
        "\n",
        "xtest_tfidf=tfidf_vect.transform(X_test)"
      ],
      "metadata": {
        "id": "D4Hgcgz1wEDm"
      },
      "execution_count": 34,
      "outputs": []
    },
    {
      "cell_type": "code",
      "source": [
        "from sklearn.linear_model  import PassiveAggressiveClassifier\n",
        "from sklearn import metrics\n",
        "pclf=PassiveAggressiveClassifier()\n",
        "pclf.fit(xtrain_tfidf,Y_train)\n",
        "predictions=pclf.predict(xtest_tfidf)\n",
        "print(metrics.classification_report(Y_test,predictions))"
      ],
      "metadata": {
        "colab": {
          "base_uri": "https://localhost:8080/"
        },
        "id": "Ro4kJmsmwVwL",
        "outputId": "38db8cb3-2733-4468-cd12-221ed85ef0b2"
      },
      "execution_count": 39,
      "outputs": [
        {
          "output_type": "stream",
          "name": "stdout",
          "text": [
            "              precision    recall  f1-score   support\n",
            "\n",
            "           0       0.72      0.68      0.70      2132\n",
            "           1       0.68      0.72      0.70      2028\n",
            "\n",
            "    accuracy                           0.70      4160\n",
            "   macro avg       0.70      0.70      0.70      4160\n",
            "weighted avg       0.70      0.70      0.70      4160\n",
            "\n"
          ]
        }
      ]
    },
    {
      "cell_type": "code",
      "source": [
        "print(metrics.confusion_matrix(Y_test,predictions))"
      ],
      "metadata": {
        "colab": {
          "base_uri": "https://localhost:8080/"
        },
        "id": "q7cHwkH9yiIy",
        "outputId": "fc03accd-18a2-44c8-df5c-0bb7ba635484"
      },
      "execution_count": 42,
      "outputs": [
        {
          "output_type": "stream",
          "name": "stdout",
          "text": [
            "[[1445  687]\n",
            " [ 562 1466]]\n"
          ]
        }
      ]
    },
    {
      "cell_type": "code",
      "source": [
        "from sklearn.neural_network import MLPClassifier\n",
        "mlpcf=MLPClassifier(hidden_layer_sizes=(256,64,16),\n",
        "                    activation='relu',\n",
        "                    solver='adam')\n",
        "mlpcf.fit(xtrain_tfidf,Y_train)\n",
        "predictions=mlpcf.predict(xtest_tfidf)\n",
        "print(metrics.classification_report(Y_test,predictions))"
      ],
      "metadata": {
        "colab": {
          "base_uri": "https://localhost:8080/"
        },
        "id": "d-xrsV7kzyGv",
        "outputId": "315789dc-70dd-4d6a-d920-2d4bedd110f8"
      },
      "execution_count": 48,
      "outputs": [
        {
          "output_type": "stream",
          "name": "stdout",
          "text": [
            "              precision    recall  f1-score   support\n",
            "\n",
            "           0       0.77      0.79      0.78      2132\n",
            "           1       0.77      0.76      0.77      2028\n",
            "\n",
            "    accuracy                           0.77      4160\n",
            "   macro avg       0.77      0.77      0.77      4160\n",
            "weighted avg       0.77      0.77      0.77      4160\n",
            "\n"
          ]
        },
        {
          "output_type": "stream",
          "name": "stderr",
          "text": [
            "/usr/local/lib/python3.11/dist-packages/sklearn/neural_network/_multilayer_perceptron.py:698: UserWarning: Training interrupted by user.\n",
            "  warnings.warn(\"Training interrupted by user.\")\n"
          ]
        }
      ]
    },
    {
      "cell_type": "code",
      "source": [
        "print(metrics.confusion_matrix(Y_test,predictions))"
      ],
      "metadata": {
        "colab": {
          "base_uri": "https://localhost:8080/"
        },
        "id": "6KP758IT2BCy",
        "outputId": "06cbe2e5-3a40-4f5c-892c-5d8f0024e5a5"
      },
      "execution_count": 50,
      "outputs": [
        {
          "output_type": "stream",
          "name": "stdout",
          "text": [
            "[[1676  456]\n",
            " [ 487 1541]]\n"
          ]
        }
      ]
    },
    {
      "cell_type": "code",
      "source": [
        "import pickle\n",
        "pickle.dump(mlpcf,open(\"fakenews1.pkl\",\"wb\"))"
      ],
      "metadata": {
        "id": "jtA_-JSX0WtE"
      },
      "execution_count": 51,
      "outputs": []
    },
    {
      "cell_type": "code",
      "source": [],
      "metadata": {
        "id": "PstmdZcr2ZDu"
      },
      "execution_count": null,
      "outputs": []
    }
  ]
}
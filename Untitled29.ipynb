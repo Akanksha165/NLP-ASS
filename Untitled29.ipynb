{
  "nbformat": 4,
  "nbformat_minor": 0,
  "metadata": {
    "colab": {
      "provenance": []
    },
    "kernelspec": {
      "name": "python3",
      "display_name": "Python 3"
    },
    "language_info": {
      "name": "python"
    }
  },
  "cells": [
    {
      "cell_type": "code",
      "execution_count": 1,
      "metadata": {
        "id": "PBtZAVJ29xVx"
      },
      "outputs": [],
      "source": [
        "import google.generativeai as genai\n",
        "from google.colab import userdata\n",
        "GOOGLE_API_KEY = userdata.get('GOOGLE_API_KEY')\n",
        "genai.configure(api_key=GOOGLE_API_KEY)\n"
      ]
    },
    {
      "cell_type": "code",
      "source": [],
      "metadata": {
        "id": "kGP3Jtx8-tWr"
      },
      "execution_count": null,
      "outputs": []
    },
    {
      "cell_type": "code",
      "source": [
        "!pip install PyPDF2\n",
        "import PyPDF2\n",
        "\n",
        "\n",
        "def extract_text_from_pdf(pdf_path):\n",
        "    \"\"\"Extracts text from a given health report PDF using PYPDF2\"\"\"\n",
        "    text = \"\"\n",
        "    with open(pdf_path, 'rb') as pdf_file:\n",
        "        pdf_reader = PyPDF2.PdfReader(pdf_file)\n",
        "        for page in pdf_reader.pages:\n",
        "            text += page.extract_text()\n",
        "\n",
        "    return text\n",
        "def extract_health_insights(text):\n",
        "\n",
        "  \"\"\"Aska Gemini AI to extract key medical insights from the report\"\"\"\n",
        "  model=genai.GenerativeModel(\"gemini-1.5-flash\")\n",
        "  prompt=f\"Extract key insights from the folllowing health report:\\n\\n{text}\"\n",
        "  response=model.generate_content(prompt)\n",
        "  return response.text\n",
        "pdf_file=\"health_report.pdf\"\n",
        "extracted_text=extract_text_from_pdf(pdf_file)\n",
        "insights=extract_health_insights(extracted_text)\n",
        "print(\"key Insights:\\n\",insights)\n"
      ],
      "metadata": {
        "colab": {
          "base_uri": "https://localhost:8080/",
          "height": 506
        },
        "id": "CPQ6DZmx-Eqo",
        "outputId": "e349725b-9d84-4588-dd31-8b966181745f"
      },
      "execution_count": 10,
      "outputs": [
        {
          "output_type": "stream",
          "name": "stdout",
          "text": [
            "Requirement already satisfied: PyPDF2 in /usr/local/lib/python3.11/dist-packages (3.0.1)\n",
            "key Insights:\n",
            " Mr. Kishan Goud's (MR Number: MR2100003157) health report from 01/02/2021 shows the following key insights:\n",
            "\n",
            "**Infectious Diseases:**\n",
            "\n",
            "* **Widal Test:** Elevated titers for *Salmonella Typhi* \"O\" (1:160) and \"H\" (1:80) suggest a possible past or current *Salmonella Typhi* infection.  The reference range is 1:20, indicating a positive result.  *Salmonella Paratyphi* \"AH\" and \"BH\" titers are within the normal range (1:20).\n",
            "* **Dengue Serology:** Negative results for Dengue NS1 antigen, IgG, and IgM antibodies indicate no current or recent dengue fever infection.\n",
            "* **Malaria:** Rapid malaria test for *Plasmodium vivax* and *Plasmodium falciparum* are both negative.\n",
            "\n",
            "**Hematology:**\n",
            "\n",
            "* **Complete Blood Picture (CBC):**  All values (Hemoglobin, RBC, WBC, Platelets, PCV) are within the normal range. Differential count also shows normal ranges for all components.  The peripheral blood smear shows normal RBC morphology and WBC count.\n",
            "* **Erythrocyte Sedimentation Rate (ESR):** Elevated ESR (26 mm/hr in the first hour, 52 mm/hr in the second hour).  The normal range for the first hour is 0-8mm/hr.  This suggests possible inflammation or infection.\n",
            "\n",
            "**Biochemistry:**\n",
            "\n",
            "* **Liver Function Test (LFT):** All liver function parameters (bilirubin, alkaline phosphatase, SGOT, SGPT, total protein, albumin, globulin, A/G ratio) are within normal ranges, except for slightly elevated ESR.\n",
            "* **Serum Electrolytes:** Serum sodium is slightly low (122 mmol/l; normal range 135-146 mmol/l). Serum potassium and chloride are within normal ranges.\n",
            "* **Random Blood Glucose:**  Within the normal range.\n",
            "* **HbA1c:**  Indicates good glycemic control (5.4%; normal range 4-6%).\n",
            "* **Serum Creatinine:** Within the normal range (0.8 mg/dl; normal range 0.6-1.25 mg/dl).\n",
            "\n",
            "**Overall:**\n",
            "\n",
            "While some results show elevations (ESR and slightly low sodium), the majority of the tests are within normal ranges.  The elevated *Salmonella Typhi* titers warrant further investigation to determine the significance (active infection vs. past exposure). The elevated ESR suggests ongoing inflammation, which might be related to the *Salmonella* antibodies, but further investigation is needed to determine the underlying cause. The slightly low sodium level also requires further evaluation to understand the cause and clinical significance.  It's crucial that Mr. Kishan Goud consults with his physician (Dr. Krishna Prasad) to discuss these results and determine appropriate next steps.\n",
            "\n"
          ]
        }
      ]
    },
    {
      "cell_type": "code",
      "source": [
        "def summarize_health_report(text):\n",
        "  \"\"\"summarize the health report usimg Gemini AIA\"\"\"\n",
        "  model=genai.GenerativeModel(\"gemini-1.5-flash\")\n",
        "  prompt=f\"Summarizes the following health report in a consice manner:\\n\\n{text}\"\n",
        "  response=model.generate_content(prompt)\n",
        "  return response.text\n",
        "summary=summarize_health_report(extracted_text)\n",
        "print(\"Summary:\\n\",summary)"
      ],
      "metadata": {
        "colab": {
          "base_uri": "https://localhost:8080/",
          "height": 315
        },
        "id": "FZ8u4gR3-j-x",
        "outputId": "c41b40e4-920f-4777-8c30-d6663b9bcc6e"
      },
      "execution_count": 13,
      "outputs": [
        {
          "output_type": "stream",
          "name": "stdout",
          "text": [
            "Summary:\n",
            " Mr. Kishan Goud's (MR2100003157) lab results from 01/02/2021 show:\n",
            "\n",
            "* **Widal Test:** Elevated titers for *Salmonella Typhi* \"O\" (1:160) and \"H\" (1:80), suggesting possible typhoid fever.  *Salmonella Paratyphi* \"AH\" and \"BH\" were within normal range.\n",
            "* **Dengue Serology:** Negative for NS1 antigen, IgG, and IgM antibodies.\n",
            "* **ESR:** Elevated (26 mm/hr after 1 hour, 52 mm/hr after 2 hours), indicating inflammation.\n",
            "* **Malaria Test:** Negative for *Plasmodium falciparum* and *Plasmodium vivax*.\n",
            "* **Complete Blood Count (CBC):**  Hemoglobin, RBC, WBC, and platelets within normal ranges.  Differential count also within normal limits.\n",
            "* **HbA1c:** 5.4% (within the normal non-diabetic range).\n",
            "* **Serum Creatinine:** 0.8 mg/dl (within normal range).\n",
            "* **Random Blood Glucose:**  Not specified in the provided text.\n",
            "* **Liver Function Test (LFT):**  All values within normal limits.\n",
            "* **Serum Electrolytes:** Sodium (122 mmol/l) slightly low, potassium and chloride within normal ranges.\n",
            "\n",
            "**Note:**  The slightly low sodium and elevated ESR warrant further investigation. The elevated Widal test titers strongly suggest further evaluation for typhoid fever.\n",
            "\n"
          ]
        }
      ]
    },
    {
      "cell_type": "code",
      "source": [
        "def detect_abnormalities(text):\n",
        "  \"\"\"Analyzes labtest results and flags abnormal values\"\"\"\n",
        "  model=genai.GenerativeModel(\"gemini-1.5-flash\")\n",
        "  prompt=f\"Analyze the following lab test results for abnormal values:\\n\\n{text}\"\n",
        "  response=model.generate_content(prompt)\n",
        "  return response.text\n",
        "\n",
        "abnormalities=detect_abnormalities(extracted_text)\n",
        "print(\"Abnormalities:\\n\",abnormalities)"
      ],
      "metadata": {
        "colab": {
          "base_uri": "https://localhost:8080/",
          "height": 280
        },
        "id": "4RtAeXmVFUM8",
        "outputId": "538f88e9-1d5f-41cc-c0ca-c1a33cf32735"
      },
      "execution_count": 15,
      "outputs": [
        {
          "output_type": "stream",
          "name": "stdout",
          "text": [
            "Abnormalities:\n",
            " The lab results for Mr. Kishan Goud show several abnormal values:\n",
            "\n",
            "* **Widal Test:**  S. Typhi \"O\" (1:160) and S. Typhi \"H\" (1:80) are significantly higher than the reference range (1:20). This suggests a possible past or current infection with *Salmonella Typhi*, the bacteria causing typhoid fever.  The titer indicates a likely past exposure rather than an active acute infection.  Further investigation may be warranted.\n",
            "\n",
            "* **ESR (Erythrocyte Sedimentation Rate):** Both the 1st hour (26 mm/hr) and 2nd hour (52 mm/hr) values are significantly elevated above the normal range (0-8 mm/hr for the 1st hour). This indicates inflammation or infection somewhere in the body.  The high ESR supports the possibility of a past or resolving *Salmonella* infection, or another underlying inflammatory condition.\n",
            "\n",
            "* **Serum Sodium:** The serum sodium level (122 mmol/l) is below the reference range (135-146 mmol/l). This is considered hyponatremia and indicates a low level of sodium in the blood.  This requires further investigation to determine the cause, which could be related to several conditions including dehydration, kidney problems, or liver disease.\n",
            "\n",
            "* **Serum Chloride:** The serum chloride level (97 mmol/l) is slightly below the lower limit of the reference range (98-107 mmol/l). While only mildly low, in conjunction with the hyponatremia, it warrants further attention.\n",
            "\n",
            "\n",
            "**Values within normal range:**  All other values (Dengue serology, Malaria tests, Complete Blood Count, HbA1c, Creatinine, Liver function tests, Potassium) fall within the reference ranges provided.  However, the abnormal values above require further medical evaluation to determine the underlying cause and appropriate treatment.  The slightly low chloride level is particularly relevant in the context of the hyponatremia.\n",
            "\n"
          ]
        }
      ]
    },
    {
      "cell_type": "code",
      "source": [
        "def explain_medical_terms(text):\n",
        "  \"\"\"Asks Gemini AI to simplify medical terms for patient understanding\"\"\"\n",
        "  model=genai.GenerativeModel(\"gemini-1.5-flash\")\n",
        "  prompt=f\"Explain the following medical terms for patient understanding:\\n\\n{text}\"\n",
        "  response=model.generate_content(prompt)\n",
        "  return response.text\n",
        "explanation=explain_medical_terms(extracted_text)\n",
        "print(\"Explanation:\\n\",explanation)"
      ],
      "metadata": {
        "colab": {
          "base_uri": "https://localhost:8080/",
          "height": 1000
        },
        "id": "d2FLfb1-FlQ9",
        "outputId": "c232a204-9c12-4e82-b5b5-84c7819e8db1"
      },
      "execution_count": 16,
      "outputs": [
        {
          "output_type": "stream",
          "name": "stdout",
          "text": [
            "Explanation:\n",
            " This report shows the results of several blood tests performed on Mr. Kishan Goud.  Let's break down each section:\n",
            "\n",
            "**1. WIDAL TEST:** This test checks for antibodies against *Salmonella* bacteria, which can cause typhoid fever and paratyphoid fever.  The results are reported as dilutions. A higher number indicates a stronger immune response (meaning the body is fighting the infection).\n",
            "\n",
            "* **S. Typhi \"O\" 1:160:**  This indicates a significant antibody response to the \"O\" antigen of *Salmonella Typhi* (the bacteria that causes typhoid fever).  The reference range is 1:20, so this result is much higher than normal, suggesting a possible past or present typhoid infection.\n",
            "* **S. Typhi \"H\" 1:80:**  This shows a moderate antibody response to the \"H\" antigen of *Salmonella Typhi*. Again, higher than the reference range of 1:20.\n",
            "* **S. Paratyphi \"AH\" 1:20:**  This result is within the normal range for antibodies to the \"AH\" antigen of *Salmonella Paratyphi* (causes paratyphoid fever).\n",
            "* **S. Paratyphi \"BH\" 1:20:** This result is within the normal range for antibodies to the \"BH\" antigen of *Salmonella Paratyphi*.\n",
            "\n",
            "**Important Note:**  A positive Widal test doesn't definitively diagnose typhoid or paratyphoid.  Other tests are needed to confirm.  The high titres for S. Typhi suggest past exposure or current infection, which warrants further investigation.\n",
            "\n",
            "\n",
            "**2. DENGUE SEROLOGY:** This tests for dengue fever, a mosquito-borne viral illness.\n",
            "\n",
            "* **Dengue NS1 Antigen:** Negative –  This means the test didn't detect the NS1 protein, which is present during the acute phase of dengue infection.\n",
            "* **Dengue IgG:** Negative – This antibody indicates past exposure to dengue virus.  A negative result suggests no past infection.\n",
            "* **Dengue IgM:** Negative – This antibody usually appears during the acute phase of dengue infection. A negative result suggests no current infection.\n",
            "\n",
            "\n",
            "**3. ERYTHROCYTE SEDIMENTATION RATE (ESR):** This measures how quickly red blood cells settle in a test tube.  A higher rate often indicates inflammation or infection in the body.\n",
            "\n",
            "* **ESR 1st Hour 26 mm/hr:**  This is higher than the normal range (0-8 mm/hr).\n",
            "* **ESR 2nd Hour 52 mm/hr:**  This is also significantly elevated.\n",
            "\n",
            "\n",
            "**4. RAPID MALARIA TEST:** This is a quick test to detect malaria parasites in the blood.\n",
            "\n",
            "* **P.V (Plasmodium vivax):** Negative\n",
            "* **P.F (Plasmodium falciparum):** Negative – Both results are negative, indicating no malaria infection detected.\n",
            "\n",
            "\n",
            "**5. COMPLETE BLOOD PICTURE (CBC):** This provides a comprehensive overview of the blood's components.\n",
            "\n",
            "* **Hemoglobin (Hb):** 13.6 gms% (Normal: 13-17 gms%). Within the normal range.\n",
            "* **Red Blood Cells (RBC):** 4.3 mill/cumm (Normal: 4.5-5.5 mill/cumm). Slightly low, but possibly within acceptable range depending on other factors.\n",
            "* **White Blood Cells (WBC):** 7,200 cells/cumm (Normal: 4000-10000 cells/cumm). Within the normal range.\n",
            "* **Platelets:** 2.0 lakhs/cumm (Normal: 1.5-4.5 lakhs/cumm). Within the normal range.\n",
            "* **Packed Cell Volume (PCV):** 40.5% (Normal: 40-50%). Within the normal range.\n",
            "* **Differential Count:**  Shows the percentages of different types of white blood cells, all within normal ranges.\n",
            "* **Peripheral Blood Smear:**  Describes the appearance of the blood cells under a microscope; all findings are within normal limits.\n",
            "\n",
            "\n",
            "**6. HbA1c:** This test measures average blood sugar levels over the past 2-3 months. It's used to monitor diabetes.\n",
            "\n",
            "* **HbA1c 5.4%:** This is within the normal range for someone without diabetes (4-6%).\n",
            "\n",
            "\n",
            "**7. SERUM CREATININE:** This measures kidney function.\n",
            "\n",
            "* **Serum Creatinine 0.8 mg/dl:** This is within the normal range (0.6-1.25 mg/dl).\n",
            "\n",
            "\n",
            "**8. RANDOM BLOOD GLUCOSE:** This measures blood sugar level at a particular time.\n",
            "\n",
            "* **Random Blood Glucose:** The result is missing from the provided text, but the reference range is 60-170 mg/dl.\n",
            "\n",
            "\n",
            "**9. LIVER FUNCTION TEST (LFT):** These tests assess liver health. All results are within normal ranges.  The A/G ratio (albumin to globulin ratio) is also within the normal range.\n",
            "\n",
            "\n",
            "**10. SERUM ELECTROLYTES:** These tests measure the levels of important minerals in the blood (sodium, potassium, chloride). Sodium is slightly below the normal range.\n",
            "\n",
            "* **Serum Sodium:** 122 mmol/l (Normal: 135-146 mmol/l). Slightly low.\n",
            "* **Serum Potassium:** 3.5 mmol/l (Normal: 3.5-5.5 mmol/l). Within the normal range.\n",
            "* **Serum Chloride:** 97 mmol/l (Normal: 98-107 mmol/l). Slightly low.\n",
            "\n",
            "**Overall:**  Mr. Kishan Goud's results show some abnormalities (elevated ESR and slightly low sodium and chloride), and a suggestive but not definitive Widal test result for *Salmonella Typhi*.  His doctor will interpret these results in the context of his symptoms and medical history to determine the appropriate diagnosis and treatment plan.  **It is crucial for Mr. Kishan Goud to discuss these results with his physician, Dr. Krishna Prasad, to understand their implications.**  This explanation is for informational purposes only and does not constitute medical advice.\n",
            "\n"
          ]
        }
      ]
    },
    {
      "cell_type": "code",
      "source": [
        "def ask_gemini_about_report(text,question):\n",
        "  \"\"\"Allows users to ask"
      ],
      "metadata": {
        "id": "Z1cmnkv6ITpF"
      },
      "execution_count": null,
      "outputs": []
    }
  ]
}
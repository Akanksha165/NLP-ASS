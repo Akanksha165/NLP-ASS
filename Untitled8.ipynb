{
  "nbformat": 4,
  "nbformat_minor": 0,
  "metadata": {
    "colab": {
      "provenance": []
    },
    "kernelspec": {
      "name": "python3",
      "display_name": "Python 3"
    },
    "language_info": {
      "name": "python"
    }
  },
  "cells": [
    {
      "cell_type": "code",
      "execution_count": 1,
      "metadata": {
        "colab": {
          "base_uri": "https://localhost:8080/"
        },
        "id": "zAQGAMFTcxMs",
        "outputId": "6da12d03-02e7-47bf-c88a-3c506344cb84"
      },
      "outputs": [
        {
          "output_type": "stream",
          "name": "stdout",
          "text": [
            "Collecting emot\n",
            "  Downloading emot-3.1-py3-none-any.whl.metadata (396 bytes)\n",
            "Downloading emot-3.1-py3-none-any.whl (61 kB)\n",
            "\u001b[?25l   \u001b[90m━━━━━━━━━━━━━━━━━━━━━━━━━━━━━━━━━━━━━━━━\u001b[0m \u001b[32m0.0/61.5 kB\u001b[0m \u001b[31m?\u001b[0m eta \u001b[36m-:--:--\u001b[0m\r\u001b[2K   \u001b[90m━━━━━━━━━━━━━━━━━━━━━━━━━━━━━━━━━━━━━━━━\u001b[0m \u001b[32m61.5/61.5 kB\u001b[0m \u001b[31m1.9 MB/s\u001b[0m eta \u001b[36m0:00:00\u001b[0m\n",
            "\u001b[?25hInstalling collected packages: emot\n",
            "Successfully installed emot-3.1\n"
          ]
        }
      ],
      "source": [
        "!pip install emot"
      ]
    },
    {
      "cell_type": "code",
      "source": [
        "text1=\"What are you saying😂.I am the boss😎,and why are you so😏\""
      ],
      "metadata": {
        "id": "oacaY3whc8kN"
      },
      "execution_count": 2,
      "outputs": []
    },
    {
      "cell_type": "code",
      "source": [
        "import re\n",
        "from emot.emo_unicode import UNICODE_EMOJI\n",
        "from  emot.emo_unicode import EMOTICONS_EMO"
      ],
      "metadata": {
        "id": "s9ZWi4RwdVMi"
      },
      "execution_count": 5,
      "outputs": []
    },
    {
      "cell_type": "code",
      "source": [
        "def converting_emojis(text):\n",
        "  for emot in UNICODE_EMOJI:\n",
        "    text=text.replace(emot, \"_\".join(UNICODE_EMOJI[emot].replace(\",\",\"\").replace(\":\",\"\").split()))\n",
        "  return text\n",
        "converting_emojis(text1)\n"
      ],
      "metadata": {
        "colab": {
          "base_uri": "https://localhost:8080/",
          "height": 53
        },
        "id": "MYSw7XVJeMS7",
        "outputId": "2a1c1296-e990-4d13-c34b-6f5cd966a3f4"
      },
      "execution_count": 8,
      "outputs": [
        {
          "output_type": "execute_result",
          "data": {
            "text/plain": [
              "'What are you sayingface_with_tears_of_joy.I am the bosssmiling_face_with_sunglasses,and why are you sosmirking_face'"
            ],
            "application/vnd.google.colaboratory.intrinsic+json": {
              "type": "string"
            }
          },
          "metadata": {},
          "execution_count": 8
        }
      ]
    },
    {
      "cell_type": "code",
      "source": [
        "import re\n",
        "\n",
        "def emoji_removal(string):\n",
        "    emoji_unicodes = re.compile(\"[\"\n",
        "        u\"\\U0001F600-\\U0001F64F\"\n",
        "        u\"\\U0001F300-\\U0001F5FF\"\n",
        "        u\"\\U0001F680-\\U0001F6FF\"\n",
        "        u\"\\U0001F1E0-\\U0001F1FF\"\n",
        "        u\"\\U00002700-\\U000027BF\"\n",
        "        u\"\\U0001F900-\\U0001F9FF\"\n",
        "        u\"\\U00002600-\\U000026FF\"\n",
        "        u\"\\U0001FA70-\\U0001FAFF\"\n",
        "        u\"\\U0001F780-\\U0001F7FF\"\n",
        "        u\"\\U0001F000-\\U0001F02F\"\n",
        "        \"]+\", flags=re.UNICODE\n",
        "    )\n",
        "    return emoji_unicodes.sub(r'', string)\n"
      ],
      "metadata": {
        "id": "94yA_pLZeYDn"
      },
      "execution_count": 11,
      "outputs": []
    },
    {
      "cell_type": "code",
      "source": [
        "test_str = \"Hello 😊🚀🌍! Let's meet at 3️⃣ PM ⏰.\"\n",
        "print(emoji_removal(test_str))\n"
      ],
      "metadata": {
        "colab": {
          "base_uri": "https://localhost:8080/"
        },
        "id": "qlibbtgRh5PI",
        "outputId": "a4a18cd5-1fe6-496f-cdea-d6f5d15d7f80"
      },
      "execution_count": 12,
      "outputs": [
        {
          "output_type": "stream",
          "name": "stdout",
          "text": [
            "Hello ! Let's meet at 3️⃣ PM ⏰.\n"
          ]
        }
      ]
    },
    {
      "cell_type": "code",
      "source": [],
      "metadata": {
        "id": "1_jYTHWvh_3k"
      },
      "execution_count": null,
      "outputs": []
    }
  ]
}